{
 "cells": [
  {
   "cell_type": "code",
   "execution_count": null,
   "metadata": {
    "collapsed": true
   },
   "outputs": [],
   "source": [
    "####    第一个笔记本文件ch6_get_twitter专门用来下载新的Twitter语料。\n",
    "import twitter\n",
    "consumer_key = \"<Your Consumer Key Here>\"\n",
    "consumer_secret = \"<Your Consumer Secret Here>\"\n",
    "access_token = \"<Your Access Token Here>\"\n",
    "access_token_secret = \"<Your Access Token Secret Here>\"\n",
    "authorization = twitter.OAuth(access_token, access_token_secret,\n",
    "consumer_key, consumer_secret)\n",
    "\n",
    "import os\n",
    "output_filename = os.path.join(os.path.expanduser(\"~\"), \"Data\", \"twitter\", \"python_tweets.json\")\n",
    "\n",
    "import json\n",
    "t = twitter.Twitter(auth=authorization)\n",
    "\n",
    "#用twitter提供的搜索函数查找python的消息\n",
    "with open(output_filename, 'a') as output_file:\n",
    "    search_results = t.search.tweets(q=\"python\", count=100)['statuses']\n",
    "    for tweet in search_results: \n",
    "        if 'text' in tweet: #检测是否是text消息\n",
    "        output_file.write(json.dumps(tweet))\n",
    "        output_file.write(\"\\n\\n\")"
   ]
  }
 ],
 "metadata": {
  "kernelspec": {
   "display_name": "Python 3",
   "language": "python",
   "name": "python3"
  },
  "language_info": {
   "codemirror_mode": {
    "name": "ipython",
    "version": 3
   },
   "file_extension": ".py",
   "mimetype": "text/x-python",
   "name": "python",
   "nbconvert_exporter": "python",
   "pygments_lexer": "ipython3",
   "version": "3.6.2"
  }
 },
 "nbformat": 4,
 "nbformat_minor": 2
}
