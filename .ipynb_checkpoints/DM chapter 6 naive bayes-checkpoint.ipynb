{
 "cells": [
  {
   "cell_type": "code",
   "execution_count": 8,
   "metadata": {
    "collapsed": true
   },
   "outputs": [],
   "source": [
    "from sklearn.base import TransformerMixin\n",
    "\n",
    "class NLTKBOW(TransformerMixin):\n",
    "    def fit(self, X, y=None):\n",
    "        return self\n",
    "    def transform(self, X):\n",
    "        return [{word: True for word in nltk.word_tokenize(document)} for document in X]\n",
    "#返回list每个元素是一条消息的dict，dict{key是单词: value是True}\n",
    "from sklearn.feature_extraction import DictVectorizer\n",
    "#DictVectorizer类接受元素为字典的列表，将其转换为矩阵。矩阵中的各个特征为所有字典中的每个键，特征值就是特征在文本中是否出现\n",
    "from sklearn.naive_bayes import BernoulliNB"
   ]
  },
  {
   "cell_type": "code",
   "execution_count": 9,
   "metadata": {},
   "outputs": [
    {
     "name": "stdout",
     "output_type": "stream",
     "text": [
      "Score: 0.836\n"
     ]
    }
   ],
   "source": [
    "import os, json, nltk\n",
    "from sklearn.model_selection import cross_val_score\n",
    "input_filename = os.path.join(os.path.expanduser(\"~\"), \"ANACONDA DM\", \"chapter6\", \"python_tweets.json\")\n",
    "labels_filename = os.path.join(os.path.expanduser(\"~\"), \"ANACONDA DM\", \"chapter6\", \"python_classes.json\")\n",
    "tweets = []\n",
    "with open(input_filename) as inf:\n",
    "    for line in inf:\n",
    "        if len(line.strip()) == 0:\n",
    "            continue\n",
    "        tweets.append(json.loads(line)['text'])\n",
    "with open(labels_filename) as inf:\n",
    "    labels = json.load(inf)\n",
    "    \n",
    "from sklearn.pipeline import Pipeline\n",
    "pipeline = Pipeline([('bag-of-words', NLTKBOW()), ('vectorizer', DictVectorizer()), ('naive-bayes', BernoulliNB())])\n",
    "scores = cross_val_score(pipeline, tweets, labels, scoring='f1')\n",
    "import numpy as np\n",
    "print(\"Score: {:.3f}\".format(np.mean(scores)))"
   ]
  },
  {
   "cell_type": "code",
   "execution_count": 25,
   "metadata": {},
   "outputs": [
    {
     "name": "stdout",
     "output_type": "stream",
     "text": [
      "0 : 0.950495049505\n",
      "1 https 0.663366336634\n",
      "2 @ 0.584158415842\n",
      "3 Python 0.564356435644\n",
      "4 RT 0.524752475248\n",
      "5 # 0.455445544554\n",
      "6 python 0.277227722772\n",
      "7 , 0.267326732673\n",
      "8 with 0.217821782178\n",
      "9 and 0.188118811881\n",
      "10 ) 0.178217821782\n",
      "11 ( 0.178217821782\n",
      "12 . 0.178217821782\n",
      "13 for 0.178217821782\n",
      "14 a 0.168316831683\n",
      "15 to 0.138613861386\n",
      "16 - 0.128712871287\n",
      "17 ☞ 0.128712871287\n",
      "18 of 0.128712871287\n",
      "19 in 0.118811881188\n",
      "20 on 0.108910891089\n",
      "21 Science 0.0891089108911\n",
      "22 you 0.0891089108911\n",
      "23 your 0.0891089108911\n",
      "24 Data 0.0891089108911\n",
      "25 ? 0.0792079207921\n",
      "26 ; 0.0693069306931\n",
      "27 Create 0.0693069306931\n",
      "28 Developer 0.0693069306931\n",
      "29 .mkdir 0.0693069306931\n",
      "30 pathlib.Path.mkdir 0.0693069306931\n",
      "31 pathlib.Path 0.0693069306931\n",
      "32 pathlib 0.0693069306931\n",
      "33 htt… 0.0693069306931\n",
      "34 directories 0.0693069306931\n",
      "35 PythonWeekly 0.0693069306931\n",
      "36 import 0.0693069306931\n",
      "37 “ 0.0693069306931\n",
      "38 new 0.0693069306931\n",
      "39 I 0.0693069306931\n",
      "40 amp 0.0693069306931\n",
      "41 method 0.0693069306931\n",
      "42 the 0.0693069306931\n",
      "43 '/my/new/directory 0.0693069306931\n",
      "44 & 0.0693069306931\n",
      "45 ' 0.0693069306931\n",
      "46 it 0.0594059405941\n",
      "47 With 0.0594059405941\n",
      "48 from 0.0594059405941\n",
      "49 up 0.049504950495\n"
     ]
    }
   ],
   "source": [
    "#find the features\n",
    "\n",
    "#fit the process\n",
    "model = pipeline.fit(tweets, labels)\n",
    "#find the probabilities for featuers\n",
    "nb = model.named_steps['naive-bayes']\n",
    "feature_probabilities = nb.feature_log_prob_\n",
    "top_features = np.argsort(-feature_probabilities[1])[:50] #只是给出特征索引值而没有给出实际的特征名称,\n",
    "# map the feature_index to feature_name\n",
    "dv = model.named_steps['vectorizer']\n",
    "for i, feature_index in enumerate(top_features):\n",
    "    print(i, dv.feature_names_[feature_index], np.exp(feature_probabilities[1][feature_index]))"
   ]
  },
  {
   "cell_type": "code",
   "execution_count": 24,
   "metadata": {},
   "outputs": [
    {
     "data": {
      "text/plain": [
       "{'alpha': 1.0,\n",
       " 'binarize': 0.0,\n",
       " 'class_count_': array([ 51.,  99.]),\n",
       " 'class_log_prior_': array([-1.07880966, -0.41551544]),\n",
       " 'class_prior': None,\n",
       " 'classes_': array([0, 1]),\n",
       " 'feature_count_': array([[  7.,  13.,   4., ...,   2.,   2.,   0.],\n",
       "        [  1.,  45.,   6., ...,   0.,   0.,   2.]]),\n",
       " 'feature_log_prob_': array([[-1.89085037, -1.33123458, -2.360854  , ..., -2.87167962,\n",
       "         -2.87167962, -3.97029191],\n",
       "        [-3.92197334, -0.78647912, -2.66921037, ..., -4.61512052,\n",
       "         -4.61512052, -3.51650823]]),\n",
       " 'fit_prior': True}"
      ]
     },
     "execution_count": 24,
     "metadata": {},
     "output_type": "execute_result"
    }
   ],
   "source": [
    "nb.__dict__"
   ]
  },
  {
   "cell_type": "code",
   "execution_count": 28,
   "metadata": {},
   "outputs": [
    {
     "data": {
      "text/plain": [
       "['C:\\\\Users\\\\Administrator\\\\ANACONDA DM\\\\chapter6\\\\python_context.pkl']"
      ]
     },
     "execution_count": 28,
     "metadata": {},
     "output_type": "execute_result"
    }
   ],
   "source": [
    "from sklearn.externals import joblib\n",
    "output_filename = os.path.join(os.path.expanduser(\"~\"), \"ANACONDA DM\", \"chapter6\", \"python_context.pkl\")\n",
    "joblib.dump(model, output_filename)"
   ]
  },
  {
   "cell_type": "code",
   "execution_count": null,
   "metadata": {
    "collapsed": true
   },
   "outputs": [],
   "source": []
  }
 ],
 "metadata": {
  "kernelspec": {
   "display_name": "Python 3",
   "language": "python",
   "name": "python3"
  },
  "language_info": {
   "codemirror_mode": {
    "name": "ipython",
    "version": 3
   },
   "file_extension": ".py",
   "mimetype": "text/x-python",
   "name": "python",
   "nbconvert_exporter": "python",
   "pygments_lexer": "ipython3",
   "version": "3.6.2"
  }
 },
 "nbformat": 4,
 "nbformat_minor": 2
}
