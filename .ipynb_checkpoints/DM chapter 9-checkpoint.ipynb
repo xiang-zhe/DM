{
 "cells": [
  {
   "cell_type": "code",
   "execution_count": 1,
   "metadata": {
    "collapsed": true
   },
   "outputs": [],
   "source": [
    "import os\n",
    "import sys\n",
    "data_folder = os.path.join(os.path.expanduser(\"~\"), \"ANACONDA DM\", \"chapter9\")"
   ]
  },
  {
   "cell_type": "code",
   "execution_count": null,
   "metadata": {
    "collapsed": true
   },
   "outputs": [],
   "source": [
    "'''\n",
    "!load DM chapter_downloaddata.py\n",
    "#因为，已经提前下好数据，不用再下载了\n",
    "'''"
   ]
  },
  {
   "cell_type": "code",
   "execution_count": 2,
   "metadata": {
    "collapsed": true
   },
   "outputs": [],
   "source": [
    "def clean_book(document):\n",
    "    lines = document.split(\"\\n\")\n",
    "    start = 0\n",
    "    end = len(lines)\n",
    "    for i in range(len(lines)):\n",
    "        line = lines[i]\n",
    "        if line.startswith(\"*** START OF THIS PROJECT GUTENBERG\"):\n",
    "            start = i + 1\n",
    "        elif line.startswith(\"*** END OF THIS PROJECT GUTENBERG\"):\n",
    "            end = i - 1\n",
    "    return \"\\n\".join(lines[start:end])"
   ]
  },
  {
   "cell_type": "code",
   "execution_count": 16,
   "metadata": {},
   "outputs": [],
   "source": [
    "import numpy as np\n",
    "def load_books_data(folder=data_folder):\n",
    "    documents = []\n",
    "    authors = []\n",
    "    subfolders = [subfolder for subfolder in os.listdir(folder) if os.path.isdir(os.path.join(folder, subfolder))]\n",
    "    for author_number, subfolder in enumerate(subfolders):\n",
    "        full_subfolder_path = os.path.join(folder, subfolder)\n",
    "        for document_name in os.listdir(full_subfolder_path):\n",
    "            with open(os.path.join(full_subfolder_path, document_name), encoding='utf-8', errors='ignore') as inf:\n",
    "                #, 'rb': a bytes-like object is required, not 'str'  in lines\n",
    "                #, encoding='utf-8'：'utf-8' codec can't decode byte 0xba in position 31875: invalid start byte\n",
    "                #, encoding='ANSI'：'mbcs' codec can't decode bytes in position 0--1: No mapping for the Unicode character exists in the target code page.\n",
    "                documents.append(clean_book(inf.read()))\n",
    "                authors.append(author_number)\n",
    "    return documents, np.array(authors, dtype='int')\n",
    "documents, classes = load_books_data(data_folder)"
   ]
  },
  {
   "cell_type": "code",
   "execution_count": 19,
   "metadata": {
    "collapsed": true
   },
   "outputs": [],
   "source": [
    "#  功能词\n",
    "function_words = [\"a\", \"able\", \"aboard\", \"about\", \"above\", \"absent\",\n",
    "\"according\" , \"accordingly\", \"across\", \"after\", \"against\",\n",
    "\"ahead\", \"albeit\", \"all\", \"along\", \"alongside\", \"although\",\n",
    "\"am\", \"amid\", \"amidst\", \"among\", \"amongst\", \"amount\", \"an\",\n",
    "\"and\", \"another\", \"anti\", \"any\", \"anybody\", \"anyone\",\n",
    "\"anything\", \"are\", \"around\", \"as\", \"aside\", \"astraddle\",\n",
    "\"astride\", \"at\", \"away\", \"bar\", \"barring\", \"be\", \"because\",\n",
    "\"been\", \"before\", \"behind\", \"being\", \"below\", \"beneath\",\n",
    "\"beside\", \"besides\", \"better\", \"between\", \"beyond\", \"bit\",\n",
    "\"both\", \"but\", \"by\", \"can\", \"certain\", \"circa\", \"close\",\n",
    "\"concerning\", \"consequently\", \"considering\", \"could\",\n",
    "\"couple\", \"dare\", \"deal\", \"despite\", \"down\", \"due\", \"during\",\n",
    "\"each\", \"eight\", \"eighth\", \"either\", \"enough\", \"every\",\n",
    "\"everybody\", \"everyone\", \"everything\", \"except\", \"excepting\",\n",
    "\"excluding\", \"failing\", \"few\", \"fewer\", \"fifth\", \"first\",\n",
    "\"five\", \"following\", \"for\", \"four\", \"fourth\", \"from\", \"front\",\n",
    "\"given\", \"good\", \"great\", \"had\", \"half\", \"have\", \"he\",\n",
    "\"heaps\", \"hence\", \"her\", \"hers\", \"herself\", \"him\", \"himself\",\n",
    "\"his\", \"however\", \"i\", \"if\", \"in\", \"including\", \"inside\",\n",
    "\"instead\", \"into\", \"is\", \"it\", \"its\", \"itself\", \"keeping\",\n",
    "\"lack\", \"less\", \"like\", \"little\", \"loads\", \"lots\", \"majority\",\n",
    "\"many\", \"masses\", \"may\", \"me\", \"might\", \"mine\", \"minority\",\n",
    "\"minus\", \"more\", \"most\", \"much\", \"must\", \"my\", \"myself\",\n",
    "\"near\", \"need\", \"neither\", \"nevertheless\", \"next\", \"nine\",\n",
    "\"ninth\", \"no\", \"nobody\", \"none\", \"nor\", \"nothing\",\n",
    "\"notwithstanding\", \"number\", \"numbers\", \"of\", \"off\", \"on\",\n",
    "\"once\", \"one\", \"onto\", \"opposite\", \"or\", \"other\", \"ought\",\n",
    "\"our\", \"ours\", \"ourselves\", \"out\", \"outside\", \"over\", \"part\",\n",
    "\"past\", \"pending\", \"per\", \"pertaining\", \"place\", \"plenty\",\n",
    "\"plethora\", \"plus\", \"quantities\", \"quantity\", \"quarter\",\n",
    "\"regarding\", \"remainder\", \"respecting\", \"rest\", \"round\",\n",
    "\"save\", \"saving\", \"second\", \"seven\", \"seventh\", \"several\",\n",
    "\"shall\", \"she\", \"should\", \"similar\", \"since\", \"six\", \"sixth\",\n",
    "\"so\", \"some\", \"somebody\", \"someone\", \"something\", \"spite\",\n",
    "\"such\", \"ten\", \"tenth\", \"than\", \"thanks\", \"that\", \"the\",\n",
    "\"their\", \"theirs\", \"them\", \"themselves\", \"then\", \"thence\",\n",
    "\"therefore\", \"these\", \"they\", \"third\", \"this\", \"those\",\n",
    "\"though\", \"three\", \"through\", \"throughout\", \"thru\", \"thus\",\n",
    "\"till\", \"time\", \"to\", \"tons\", \"top\", \"toward\", \"towards\",\n",
    "\"two\", \"under\", \"underneath\", \"unless\", \"unlike\", \"until\",\n",
    "\"unto\", \"up\", \"upon\", \"us\", \"used\", \"various\", \"versus\",\n",
    "\"via\", \"view\", \"wanting\", \"was\", \"we\", \"were\", \"what\",\n",
    "\"whatever\", \"when\", \"whenever\", \"where\", \"whereas\",\n",
    "\"wherever\", \"whether\", \"which\", \"whichever\", \"while\",\n",
    "\"whilst\", \"who\", \"whoever\", \"whole\", \"whom\", \"whomever\",\n",
    "\"whose\", \"will\", \"with\", \"within\", \"without\", \"would\", \"yet\",\n",
    "\"you\", \"your\", \"yours\", \"yourself\", \"yourselves\"]\n",
    "from sklearn.feature_extraction.text import CountVectorizer\n",
    "extractor = CountVectorizer(vocabulary=function_words)"
   ]
  },
  {
   "cell_type": "code",
   "execution_count": 22,
   "metadata": {},
   "outputs": [
    {
     "name": "stdout",
     "output_type": "stream",
     "text": [
      "score: 0.795\n"
     ]
    }
   ],
   "source": [
    "# 用功能词分类\n",
    "from sklearn.svm import SVC\n",
    "from sklearn.model_selection import cross_val_score\n",
    "from sklearn.pipeline import Pipeline\n",
    "from sklearn import grid_search\n",
    "parameters = {'kernel':('linear', 'rbf'), \n",
    "              'C':[1, 10]}\n",
    "svr = SVC()\n",
    "grid = grid_search.GridSearchCV(svr, parameters)\n",
    "pipeline1 = Pipeline([('feature_extraction', extractor), ('clf', grid)])\n",
    "scores = cross_val_score(pipeline1, documents, classes, scoring='f1_weighted')\n",
    "print('score: {:.3f}'.format(np.mean(scores)))"
   ]
  },
  {
   "cell_type": "code",
   "execution_count": 23,
   "metadata": {},
   "outputs": [
    {
     "name": "stderr",
     "output_type": "stream",
     "text": [
      "D:\\Anaconda3\\lib\\site-packages\\sklearn\\metrics\\classification.py:1113: UndefinedMetricWarning: F-score is ill-defined and being set to 0.0 in labels with no predicted samples.\n",
      "  'precision', 'predicted', average, warn_for)\n"
     ]
    },
    {
     "name": "stdout",
     "output_type": "stream",
     "text": [
      "Score: 0.833\n"
     ]
    }
   ],
   "source": [
    "#用N元语法分类\n",
    "pipeline = Pipeline([('feature_extraction', CountVectorizer(analyzer='char', ngram_range=(3, 3))), ('classifier', grid)])\n",
    "scores = cross_val_score(pipeline, documents, classes, scoring='f1_weighted')\n",
    "print(\"Score: {:.3f}\".format(np.mean(scores)))"
   ]
  },
  {
   "cell_type": "code",
   "execution_count": null,
   "metadata": {
    "collapsed": true
   },
   "outputs": [],
   "source": []
  }
 ],
 "metadata": {
  "kernelspec": {
   "display_name": "Python [conda root]",
   "language": "python",
   "name": "conda-root-py"
  },
  "language_info": {
   "codemirror_mode": {
    "name": "ipython",
    "version": 3
   },
   "file_extension": ".py",
   "mimetype": "text/x-python",
   "name": "python",
   "nbconvert_exporter": "python",
   "pygments_lexer": "ipython3",
   "version": "3.6.2"
  }
 },
 "nbformat": 4,
 "nbformat_minor": 2
}
