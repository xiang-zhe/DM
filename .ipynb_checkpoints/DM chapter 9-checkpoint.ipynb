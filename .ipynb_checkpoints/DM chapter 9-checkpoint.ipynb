{
 "cells": [
  {
   "cell_type": "code",
   "execution_count": 1,
   "metadata": {
    "collapsed": true
   },
   "outputs": [],
   "source": [
    "import os\n",
    "import sys\n",
    "data_folder = os.path.join(os.path.expanduser(\"~\"), \"ANACONDA DM\", \"chapter9\")"
   ]
  },
  {
   "cell_type": "code",
   "execution_count": 2,
   "metadata": {},
   "outputs": [
    {
     "data": {
      "text/plain": [
       "'\\n!load DM chapter_downloaddata.py\\n#因为，已经提前下好数据，不用再下载了\\n'"
      ]
     },
     "execution_count": 2,
     "metadata": {},
     "output_type": "execute_result"
    }
   ],
   "source": [
    "'''\n",
    "!load DM chapter_downloaddata.py\n",
    "#因为，已经提前下好数据，不用再下载了\n",
    "'''"
   ]
  },
  {
   "cell_type": "code",
   "execution_count": 3,
   "metadata": {
    "collapsed": true
   },
   "outputs": [],
   "source": [
    "def clean_book(document):\n",
    "    lines = document.split(\"\\n\")\n",
    "    start = 0\n",
    "    end = len(lines)\n",
    "    for i in range(len(lines)):\n",
    "        line = lines[i]\n",
    "        if line.startswith(\"*** START OF THIS PROJECT GUTENBERG\"):\n",
    "            start = i + 1\n",
    "        elif line.startswith(\"*** END OF THIS PROJECT GUTENBERG\"):\n",
    "            end = i - 1\n",
    "    return \"\\n\".join(lines[start:end])"
   ]
  },
  {
   "cell_type": "code",
   "execution_count": 4,
   "metadata": {
    "collapsed": true
   },
   "outputs": [],
   "source": [
    "import numpy as np\n",
    "def load_books_data(folder=data_folder):\n",
    "    documents = []\n",
    "    authors = []\n",
    "    subfolders = [subfolder for subfolder in os.listdir(folder) if os.path.isdir(os.path.join(folder, subfolder))]\n",
    "    for author_number, subfolder in enumerate(subfolders):\n",
    "        full_subfolder_path = os.path.join(folder, subfolder)\n",
    "        for document_name in os.listdir(full_subfolder_path):\n",
    "            with open(os.path.join(full_subfolder_path, document_name), encoding='utf-8', errors='ignore') as inf:\n",
    "                #, 'rb': a bytes-like object is required, not 'str'  in lines\n",
    "                #, encoding='utf-8'：'utf-8' codec can't decode byte 0xba in position 31875: invalid start byte\n",
    "                #, encoding='ANSI'：'mbcs' codec can't decode bytes in position 0--1: No mapping for the Unicode character exists in the target code page.\n",
    "                documents.append(clean_book(inf.read()))\n",
    "                authors.append(author_number)\n",
    "    return documents, np.array(authors, dtype='int')\n",
    "documents, classes = load_books_data(data_folder)"
   ]
  },
  {
   "cell_type": "code",
   "execution_count": 5,
   "metadata": {
    "collapsed": true
   },
   "outputs": [],
   "source": [
    "#  功能词\n",
    "function_words = [\"a\", \"able\", \"aboard\", \"about\", \"above\", \"absent\",\n",
    "\"according\" , \"accordingly\", \"across\", \"after\", \"against\",\n",
    "\"ahead\", \"albeit\", \"all\", \"along\", \"alongside\", \"although\",\n",
    "\"am\", \"amid\", \"amidst\", \"among\", \"amongst\", \"amount\", \"an\",\n",
    "\"and\", \"another\", \"anti\", \"any\", \"anybody\", \"anyone\",\n",
    "\"anything\", \"are\", \"around\", \"as\", \"aside\", \"astraddle\",\n",
    "\"astride\", \"at\", \"away\", \"bar\", \"barring\", \"be\", \"because\",\n",
    "\"been\", \"before\", \"behind\", \"being\", \"below\", \"beneath\",\n",
    "\"beside\", \"besides\", \"better\", \"between\", \"beyond\", \"bit\",\n",
    "\"both\", \"but\", \"by\", \"can\", \"certain\", \"circa\", \"close\",\n",
    "\"concerning\", \"consequently\", \"considering\", \"could\",\n",
    "\"couple\", \"dare\", \"deal\", \"despite\", \"down\", \"due\", \"during\",\n",
    "\"each\", \"eight\", \"eighth\", \"either\", \"enough\", \"every\",\n",
    "\"everybody\", \"everyone\", \"everything\", \"except\", \"excepting\",\n",
    "\"excluding\", \"failing\", \"few\", \"fewer\", \"fifth\", \"first\",\n",
    "\"five\", \"following\", \"for\", \"four\", \"fourth\", \"from\", \"front\",\n",
    "\"given\", \"good\", \"great\", \"had\", \"half\", \"have\", \"he\",\n",
    "\"heaps\", \"hence\", \"her\", \"hers\", \"herself\", \"him\", \"himself\",\n",
    "\"his\", \"however\", \"i\", \"if\", \"in\", \"including\", \"inside\",\n",
    "\"instead\", \"into\", \"is\", \"it\", \"its\", \"itself\", \"keeping\",\n",
    "\"lack\", \"less\", \"like\", \"little\", \"loads\", \"lots\", \"majority\",\n",
    "\"many\", \"masses\", \"may\", \"me\", \"might\", \"mine\", \"minority\",\n",
    "\"minus\", \"more\", \"most\", \"much\", \"must\", \"my\", \"myself\",\n",
    "\"near\", \"need\", \"neither\", \"nevertheless\", \"next\", \"nine\",\n",
    "\"ninth\", \"no\", \"nobody\", \"none\", \"nor\", \"nothing\",\n",
    "\"notwithstanding\", \"number\", \"numbers\", \"of\", \"off\", \"on\",\n",
    "\"once\", \"one\", \"onto\", \"opposite\", \"or\", \"other\", \"ought\",\n",
    "\"our\", \"ours\", \"ourselves\", \"out\", \"outside\", \"over\", \"part\",\n",
    "\"past\", \"pending\", \"per\", \"pertaining\", \"place\", \"plenty\",\n",
    "\"plethora\", \"plus\", \"quantities\", \"quantity\", \"quarter\",\n",
    "\"regarding\", \"remainder\", \"respecting\", \"rest\", \"round\",\n",
    "\"save\", \"saving\", \"second\", \"seven\", \"seventh\", \"several\",\n",
    "\"shall\", \"she\", \"should\", \"similar\", \"since\", \"six\", \"sixth\",\n",
    "\"so\", \"some\", \"somebody\", \"someone\", \"something\", \"spite\",\n",
    "\"such\", \"ten\", \"tenth\", \"than\", \"thanks\", \"that\", \"the\",\n",
    "\"their\", \"theirs\", \"them\", \"themselves\", \"then\", \"thence\",\n",
    "\"therefore\", \"these\", \"they\", \"third\", \"this\", \"those\",\n",
    "\"though\", \"three\", \"through\", \"throughout\", \"thru\", \"thus\",\n",
    "\"till\", \"time\", \"to\", \"tons\", \"top\", \"toward\", \"towards\",\n",
    "\"two\", \"under\", \"underneath\", \"unless\", \"unlike\", \"until\",\n",
    "\"unto\", \"up\", \"upon\", \"us\", \"used\", \"various\", \"versus\",\n",
    "\"via\", \"view\", \"wanting\", \"was\", \"we\", \"were\", \"what\",\n",
    "\"whatever\", \"when\", \"whenever\", \"where\", \"whereas\",\n",
    "\"wherever\", \"whether\", \"which\", \"whichever\", \"while\",\n",
    "\"whilst\", \"who\", \"whoever\", \"whole\", \"whom\", \"whomever\",\n",
    "\"whose\", \"will\", \"with\", \"within\", \"without\", \"would\", \"yet\",\n",
    "\"you\", \"your\", \"yours\", \"yourself\", \"yourselves\"]\n",
    "from sklearn.feature_extraction.text import CountVectorizer\n",
    "extractor = CountVectorizer(vocabulary=function_words)"
   ]
  },
  {
   "cell_type": "code",
   "execution_count": 7,
   "metadata": {},
   "outputs": [
    {
     "name": "stdout",
     "output_type": "stream",
     "text": [
      "score: 0.795\n"
     ]
    }
   ],
   "source": [
    "#用N元语法分类\n",
    "from sklearn.svm import SVC\n",
    "from sklearn.model_selection import cross_val_score, GridSearchCV\n",
    "from sklearn.pipeline import Pipeline\n",
    "from sklearn import grid_search\n",
    "from sklearn.metrics import classification_report\n",
    "\n",
    "parameters = {'kernel':('linear', 'rbf'), \n",
    "              'C':[1, 10]}\n",
    "svr = SVC()\n",
    "grid = GridSearchCV(svr, parameters)\n",
    "pipeline1 = Pipeline([('feature_extraction', extractor), ('clf', grid)])\n",
    "scores = cross_val_score(pipeline1, documents, classes, scoring='f1_weighted')\n",
    "print('score: {:.3f}'.format(np.mean(scores)))"
   ]
  },
  {
   "cell_type": "code",
   "execution_count": 8,
   "metadata": {},
   "outputs": [
    {
     "name": "stderr",
     "output_type": "stream",
     "text": [
      "D:\\Anaconda3\\lib\\site-packages\\sklearn\\metrics\\classification.py:1113: UndefinedMetricWarning: F-score is ill-defined and being set to 0.0 in labels with no predicted samples.\n",
      "  'precision', 'predicted', average, warn_for)\n"
     ]
    },
    {
     "name": "stdout",
     "output_type": "stream",
     "text": [
      "Score: 0.833\n"
     ]
    }
   ],
   "source": [
    "#用N元语法分类\n",
    "pipeline = Pipeline([('feature_extraction', CountVectorizer(analyzer='char', ngram_range=(3, 3))), ('classifier', grid)])\n",
    "scores = cross_val_score(pipeline, documents, classes, scoring='f1_weighted')\n",
    "print(\"Score: {:.3f}\".format(np.mean(scores)))"
   ]
  },
  {
   "cell_type": "code",
   "execution_count": 9,
   "metadata": {
    "collapsed": true
   },
   "outputs": [],
   "source": [
    "# 安然公司邮件数据\n",
    "#enron_data_folder = os.path.join(os.path.expanduser(\"~\"), \"Data\", \"enron_mail_20110402\", \"maildir\")\n",
    "enron_data_folder = 'D:/Downloads/enron_mail_20150507'\n",
    "from email.parser import Parser\n",
    "p = Parser()\n",
    "from sklearn.utils import check_random_state\n",
    "def get_enron_corpus(num_authors=10, data_folder=data_folder, min_docs_author=10, max_docs_author=100, random_state=None):\n",
    "    random_state = check_random_state(random_state)\n",
    "    '''因为os.listdir返回的目录每次不一定相同，所以要排序'''\n",
    "    email_addresses = sorted(os.listdir(data_folder))\n",
    "    random_state.shuffle(email_addresses)\n",
    "    documents = []\n",
    "    classes = []\n",
    "    author_num = 0\n",
    "    authors = {}\n",
    "    for user in email_addresses:\n",
    "        users_email_folder = os.path.join(data_folder, user) #每个人的文件夹地址\n",
    "        mail_folders = [os.path.join(users_email_folder, subfolder) for subfolder in os.listdir(users_email_folder) if \"sent\" in subfolder]\n",
    "        # 每个人的发件箱地址，是个list，难道有过个发件箱？文件家中确实含有多个含sent的文件夹\n",
    "        try:\n",
    "            authored_emails = [open(os.path.join(mail_folder, email_filename), encoding='cp1252').read()\n",
    "                               for mail_folder in mail_folders for email_filename in os.listdir(mail_folder)]\n",
    "            # 尝试读取每封邮件，list\n",
    "        except IsADirectoryError:\n",
    "            # 如果sent文件夹中还有文件夹就跳过\n",
    "            continue\n",
    "        if len(authored_emails) < min_docs_author:\n",
    "            continue\n",
    "        if len(authored_emails) > max_docs_author:\n",
    "            authored_emails = authored_emails[:max_docs_author]\n",
    "        '''去除邮件开头部分，提取邮件内容，parsestr(text, headersonly=False)，没有找到._payload'''\n",
    "        contents = [p.parsestr(email)._payload for email in authored_emails]\n",
    "        documents.extend(contents)\n",
    "        classes.extend([author_num] * len(authored_emails))\n",
    "        authors[user] = author_num\n",
    "        author_num += 1\n",
    "        if author_num >= num_authors or author_num >=len(email_addresses):\n",
    "            break\n",
    "    return documents, np.array(classes), authors\n",
    "documents, classes, authors = get_enron_corpus(data_folder=enron_data_folder, random_state=14)"
   ]
  },
  {
   "cell_type": "code",
   "execution_count": 11,
   "metadata": {},
   "outputs": [],
   "source": [
    "import quotequail\n",
    "def remove_replies(email_contents): #除去被回复的邮件\n",
    "    r = quotequail.unwrap(email_contents) # a dictionary is returned\n",
    "    if r is None:\n",
    "        return email_contents\n",
    "    if 'text_top' in r:\n",
    "        return r['text_top']\n",
    "    elif 'text' in r:\n",
    "        return r['text']\n",
    "    return email_contents\n",
    "documents = [remove_replies(document) for document in documents]"
   ]
  },
  {
   "cell_type": "code",
   "execution_count": 12,
   "metadata": {},
   "outputs": [
    {
     "name": "stdout",
     "output_type": "stream",
     "text": [
      "Score: 0.521\n"
     ]
    }
   ],
   "source": [
    "scores = cross_val_score(pipeline, documents, classes, scoring='f1_weighted')\n",
    "print(\"Score: {:.3f}\".format(np.mean(scores)))"
   ]
  },
  {
   "cell_type": "code",
   "execution_count": 13,
   "metadata": {},
   "outputs": [
    {
     "name": "stdout",
     "output_type": "stream",
     "text": [
      "{'C': 1, 'kernel': 'linear'}\n"
     ]
    }
   ],
   "source": [
    "#  评估\n",
    "from sklearn.model_selection import train_test_split\n",
    "training_documents, testing_documents, y_train, y_test = train_test_split(documents, classes, random_state=14)\n",
    "pipeline.fit(training_documents, y_train)\n",
    "y_pred = pipeline.predict(testing_documents)\n",
    "print(pipeline.named_steps['classifier'].best_params_)"
   ]
  },
  {
   "cell_type": "code",
   "execution_count": 14,
   "metadata": {},
   "outputs": [
    {
     "data": {
      "image/png": "[encoded data removed]",
      "text/plain": [
       "<matplotlib.figure.Figure at 0xef55470>"
      ]
     },
     "metadata": {},
     "output_type": "display_data"
    }
   ],
   "source": [
    "from sklearn.metrics import confusion_matrix\n",
    "cm = confusion_matrix(y_pred, y_test)\n",
    "cm = cm / cm.astype(np.float).sum(axis=1)\n",
    "sorted_authors = sorted(authors.keys(), key=lambda x:authors[x])\n",
    "%matplotlib inline\n",
    "from matplotlib import pyplot as plt\n",
    "plt.figure(figsize=(10,10))\n",
    "plt.imshow(cm, cmap='Blues')\n",
    "tick_marks = np.arange(len(sorted_authors))\n",
    "plt.xticks(tick_marks, sorted_authors)\n",
    "plt.yticks(tick_marks, sorted_authors)\n",
    "plt.ylabel('Actual')\n",
    "plt.xlabel('Predicted')\n",
    "plt.show()"
   ]
  },
  {
   "cell_type": "code",
   "execution_count": null,
   "metadata": {
    "collapsed": true
   },
   "outputs": [],
   "source": []
  }
 ],
 "metadata": {
  "kernelspec": {
   "display_name": "Python [conda root]",
   "language": "python",
   "name": "conda-root-py"
  },
  "language_info": {
   "codemirror_mode": {
    "name": "ipython",
    "version": 3
   },
   "file_extension": ".py",
   "mimetype": "text/x-python",
   "name": "python",
   "nbconvert_exporter": "python",
   "pygments_lexer": "ipython3",
   "version": "3.6.2"
  }
 },
 "nbformat": 4,
 "nbformat_minor": 2
}
