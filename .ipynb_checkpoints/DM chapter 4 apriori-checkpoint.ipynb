{
 "cells": [
  {
   "cell_type": "code",
   "execution_count": 1,
   "metadata": {},
   "outputs": [
    {
     "data": {
      "text/html": [
       "<div>\n",
       "<style>\n",
       "    .dataframe thead tr:only-child th {\n",
       "        text-align: right;\n",
       "    }\n",
       "\n",
       "    .dataframe thead th {\n",
       "        text-align: left;\n",
       "    }\n",
       "\n",
       "    .dataframe tbody tr th {\n",
       "        vertical-align: top;\n",
       "    }\n",
       "</style>\n",
       "<table border=\"1\" class=\"dataframe\">\n",
       "  <thead>\n",
       "    <tr style=\"text-align: right;\">\n",
       "      <th></th>\n",
       "      <th>UserID</th>\n",
       "      <th>MovieID</th>\n",
       "      <th>Rating</th>\n",
       "      <th>Datetime</th>\n",
       "    </tr>\n",
       "  </thead>\n",
       "  <tbody>\n",
       "    <tr>\n",
       "      <th>0</th>\n",
       "      <td>196</td>\n",
       "      <td>242</td>\n",
       "      <td>3</td>\n",
       "      <td>1997-12-04 15:55:49</td>\n",
       "    </tr>\n",
       "    <tr>\n",
       "      <th>1</th>\n",
       "      <td>186</td>\n",
       "      <td>302</td>\n",
       "      <td>3</td>\n",
       "      <td>1998-04-04 19:22:22</td>\n",
       "    </tr>\n",
       "    <tr>\n",
       "      <th>2</th>\n",
       "      <td>22</td>\n",
       "      <td>377</td>\n",
       "      <td>1</td>\n",
       "      <td>1997-11-07 07:18:36</td>\n",
       "    </tr>\n",
       "    <tr>\n",
       "      <th>3</th>\n",
       "      <td>244</td>\n",
       "      <td>51</td>\n",
       "      <td>2</td>\n",
       "      <td>1997-11-27 05:02:03</td>\n",
       "    </tr>\n",
       "    <tr>\n",
       "      <th>4</th>\n",
       "      <td>166</td>\n",
       "      <td>346</td>\n",
       "      <td>1</td>\n",
       "      <td>1998-02-02 05:33:16</td>\n",
       "    </tr>\n",
       "  </tbody>\n",
       "</table>\n",
       "</div>"
      ],
      "text/plain": [
       "   UserID  MovieID  Rating            Datetime\n",
       "0     196      242       3 1997-12-04 15:55:49\n",
       "1     186      302       3 1998-04-04 19:22:22\n",
       "2      22      377       1 1997-11-07 07:18:36\n",
       "3     244       51       2 1997-11-27 05:02:03\n",
       "4     166      346       1 1998-02-02 05:33:16"
      ]
     },
     "execution_count": 1,
     "metadata": {},
     "output_type": "execute_result"
    }
   ],
   "source": [
    "import os\n",
    "import sys\n",
    "import pandas as pd\n",
    "import numpy as np\n",
    "from collections import defaultdict\n",
    "from operator  import itemgetter\n",
    "#data_folder =  os.path.join(os.path.expanduser('~'), 'Data','ml-100k')\n",
    "#ratings_filename = os.path.join(data_folder, 'u.data')\n",
    "ratings_filename = 'D:/Program Files (x86)/Python/practice/python download dataset/ml-100k/u.data'\n",
    "all_ratings = pd.read_csv(ratings_filename, delimiter='\\t', header= None, names = ['UserID', 'MovieID', 'Rating', 'Datetime'])\n",
    "all_ratings['Datetime'] = pd.to_datetime(all_ratings['Datetime'], unit='s')\n",
    "all_ratings[:5]"
   ]
  },
  {
   "cell_type": "code",
   "execution_count": 2,
   "metadata": {},
   "outputs": [
    {
     "data": {
      "text/html": [
       "<div>\n",
       "<style>\n",
       "    .dataframe thead tr:only-child th {\n",
       "        text-align: right;\n",
       "    }\n",
       "\n",
       "    .dataframe thead th {\n",
       "        text-align: left;\n",
       "    }\n",
       "\n",
       "    .dataframe tbody tr th {\n",
       "        vertical-align: top;\n",
       "    }\n",
       "</style>\n",
       "<table border=\"1\" class=\"dataframe\">\n",
       "  <thead>\n",
       "    <tr style=\"text-align: right;\">\n",
       "      <th></th>\n",
       "      <th>UserID</th>\n",
       "      <th>MovieID</th>\n",
       "      <th>Rating</th>\n",
       "      <th>Datetime</th>\n",
       "      <th>Favorable</th>\n",
       "    </tr>\n",
       "  </thead>\n",
       "  <tbody>\n",
       "    <tr>\n",
       "      <th>10</th>\n",
       "      <td>62</td>\n",
       "      <td>257</td>\n",
       "      <td>2</td>\n",
       "      <td>1997-11-12 22:07:14</td>\n",
       "      <td>False</td>\n",
       "    </tr>\n",
       "    <tr>\n",
       "      <th>11</th>\n",
       "      <td>286</td>\n",
       "      <td>1014</td>\n",
       "      <td>5</td>\n",
       "      <td>1997-11-17 15:38:45</td>\n",
       "      <td>True</td>\n",
       "    </tr>\n",
       "    <tr>\n",
       "      <th>12</th>\n",
       "      <td>200</td>\n",
       "      <td>222</td>\n",
       "      <td>5</td>\n",
       "      <td>1997-10-05 09:05:40</td>\n",
       "      <td>True</td>\n",
       "    </tr>\n",
       "    <tr>\n",
       "      <th>13</th>\n",
       "      <td>210</td>\n",
       "      <td>40</td>\n",
       "      <td>3</td>\n",
       "      <td>1998-03-27 21:59:54</td>\n",
       "      <td>False</td>\n",
       "    </tr>\n",
       "    <tr>\n",
       "      <th>14</th>\n",
       "      <td>224</td>\n",
       "      <td>29</td>\n",
       "      <td>3</td>\n",
       "      <td>1998-02-21 23:40:57</td>\n",
       "      <td>False</td>\n",
       "    </tr>\n",
       "  </tbody>\n",
       "</table>\n",
       "</div>"
      ],
      "text/plain": [
       "    UserID  MovieID  Rating            Datetime  Favorable\n",
       "10      62      257       2 1997-11-12 22:07:14      False\n",
       "11     286     1014       5 1997-11-17 15:38:45       True\n",
       "12     200      222       5 1997-10-05 09:05:40       True\n",
       "13     210       40       3 1998-03-27 21:59:54      False\n",
       "14     224       29       3 1998-02-21 23:40:57      False"
      ]
     },
     "execution_count": 2,
     "metadata": {},
     "output_type": "execute_result"
    }
   ],
   "source": [
    "all_ratings['Favorable'] = all_ratings['Rating'] > 3\n",
    "all_ratings[10:15]"
   ]
  },
  {
   "cell_type": "code",
   "execution_count": 3,
   "metadata": {
    "collapsed": true
   },
   "outputs": [],
   "source": [
    "ratings = all_ratings[all_ratings['UserID'].isin(range(200))]\n",
    "favorable_ratings = ratings[ratings['Favorable']]\n",
    "favorable_reviews_by_users = dict((k, frozenset(v.values)) for k, v in favorable_ratings.groupby('UserID')['MovieID'])\n",
    "#favorable_reviews_by_users is a dict, key is UserID, value was MovieID set \n",
    "# this useage is complicated  \n",
    "#frozenset: is diferent set function\n",
    "#what's interesting is that dataframe(favorable_ratings) hasn't columns['UserID', 'MovieID'], but it can be groupby 'UserID'"
   ]
  },
  {
   "cell_type": "code",
   "execution_count": 14,
   "metadata": {},
   "outputs": [
    {
     "name": "stdout",
     "output_type": "stream",
     "text": [
      "[(5, frozenset({1, 385, 257, 390, 391, 135, 267, 396, 17, 401, 24, 153, 408, 29, 163, 422, 423, 40, 169, 42, 428, 173, 430, 172, 432, 433, 50, 435, 436, 434, 181, 183, 186, 443, 189, 62, 446, 194, 70, 455, 204, 208, 209, 211, 89, 222, 95, 227, 100, 101, 228, 233, 235, 174, 109, 239, 121, 382}))]\n"
     ]
    }
   ],
   "source": []
  },
  {
   "cell_type": "code",
   "execution_count": 15,
   "metadata": {},
   "outputs": [
    {
     "data": {
      "text/html": [
       "<div>\n",
       "<style>\n",
       "    .dataframe thead tr:only-child th {\n",
       "        text-align: right;\n",
       "    }\n",
       "\n",
       "    .dataframe thead th {\n",
       "        text-align: left;\n",
       "    }\n",
       "\n",
       "    .dataframe tbody tr th {\n",
       "        vertical-align: top;\n",
       "    }\n",
       "</style>\n",
       "<table border=\"1\" class=\"dataframe\">\n",
       "  <thead>\n",
       "    <tr style=\"text-align: right;\">\n",
       "      <th></th>\n",
       "      <th>Favorable</th>\n",
       "    </tr>\n",
       "    <tr>\n",
       "      <th>MovieID</th>\n",
       "      <th></th>\n",
       "    </tr>\n",
       "  </thead>\n",
       "  <tbody>\n",
       "    <tr>\n",
       "      <th>50</th>\n",
       "      <td>100.0</td>\n",
       "    </tr>\n",
       "    <tr>\n",
       "      <th>100</th>\n",
       "      <td>89.0</td>\n",
       "    </tr>\n",
       "    <tr>\n",
       "      <th>258</th>\n",
       "      <td>83.0</td>\n",
       "    </tr>\n",
       "    <tr>\n",
       "      <th>181</th>\n",
       "      <td>79.0</td>\n",
       "    </tr>\n",
       "  </tbody>\n",
       "</table>\n",
       "</div>"
      ],
      "text/plain": [
       "         Favorable\n",
       "MovieID           \n",
       "50           100.0\n",
       "100           89.0\n",
       "258           83.0\n",
       "181           79.0"
      ]
     },
     "execution_count": 15,
     "metadata": {},
     "output_type": "execute_result"
    }
   ],
   "source": [
    "num_favorable_by_movie = ratings[['MovieID', 'Favorable']].groupby('MovieID').sum()\n",
    "num_favorable_by_movie.sort_values('Favorable', ascending=False)[:4]"
   ]
  },
  {
   "cell_type": "code",
   "execution_count": 16,
   "metadata": {},
   "outputs": [
    {
     "data": {
      "text/plain": [
       "{frozenset({1}): 66.0,\n",
       " frozenset({7}): 67.0,\n",
       " frozenset({9}): 53.0,\n",
       " frozenset({50}): 100.0,\n",
       " frozenset({56}): 67.0,\n",
       " frozenset({64}): 58.0,\n",
       " frozenset({79}): 58.0,\n",
       " frozenset({98}): 70.0,\n",
       " frozenset({100}): 89.0,\n",
       " frozenset({127}): 70.0,\n",
       " frozenset({172}): 59.0,\n",
       " frozenset({174}): 74.0,\n",
       " frozenset({181}): 79.0,\n",
       " frozenset({258}): 83.0,\n",
       " frozenset({286}): 59.0,\n",
       " frozenset({313}): 60.0}"
      ]
     },
     "execution_count": 16,
     "metadata": {},
     "output_type": "execute_result"
    }
   ],
   "source": [
    "frequent_itemsets = {}\n",
    "min_support = 50\n",
    "frequent_itemsets[1] = dict((frozenset((movie_id,)), row['Favorable']) for movie_id, row in num_favorable_by_movie.iterrows() \n",
    "                            if row['Favorable'] > min_support)\n",
    "#the key of frequent_itemsets was the length of frequency set\n",
    "#[1] means that when the frequency of oniy one movie was review over 30 times"
   ]
  },
  {
   "cell_type": "code",
   "execution_count": 6,
   "metadata": {
    "collapsed": true
   },
   "outputs": [],
   "source": [
    "\n",
    "def find_frequent_itemsets(favorable_reviews_by_users, k_1_itemsets, min_support):\n",
    "    counts = defaultdict(int)\n",
    "    for users, reviews in favorable_reviews_by_users.items():\n",
    "    #reviews is frozenset({...moiveIDs set})\n",
    "        for itemset in k_1_itemsets:\n",
    "        #new useage (k,v) in dict.items()------v in dict\n",
    "        #itemset is frozenset({a single movieID}), but itemset will iter with the loop[k_1_itemsets], it will be two movieID ,three ,four...\n",
    "            if itemset.issubset(reviews):\n",
    "            #review is one user's review\n",
    "            #k_1_itemsets was single movie favoerable over 30, if there are more in one user reveiw, there are  frequency set\n",
    "                '''reviews -= itemset\n",
    "                for other_reviewed_movie in reviews:'''\n",
    "                for other_reviewed_movie in reviews - itemset:\n",
    "                #other_reviewed_movie is a single movieID\n",
    "                    current_superset = itemset | frozenset((other_reviewed_movie,))\n",
    "                    counts[current_superset] += 1\n",
    "                    # when itemset and other_reviewed_movie exchanged positon, the count will repeat??? ////////////important???\n",
    "                    # answer for above: because the reviews is change with itemset\n",
    "    return dict([(itemset, frequency) for itemset, frequency in counts.items() if frequency > min_support])"
   ]
  },
  {
   "cell_type": "code",
   "execution_count": 7,
   "metadata": {},
   "outputs": [
    {
     "name": "stdout",
     "output_type": "stream",
     "text": [
      "found 90 frequent itemsets of length 2\n",
      "found 280 frequent itemsets of length 3\n",
      "found 558 frequent itemsets of length 4\n",
      "found 730 frequent itemsets of length 5\n",
      "found 624 frequent itemsets of length 6\n",
      "found 344 frequent itemsets of length 7\n",
      "found 118 frequent itemsets of length 8\n",
      "found 23 frequent itemsets of length 9\n",
      "found 2 frequent itemsets of length 10\n",
      "no found length 11\n"
     ]
    }
   ],
   "source": [
    "\n",
    "for k in range(2, 20):\n",
    "    cur_frequent_itemsets = find_frequent_itemsets(favorable_reviews_by_users, frequent_itemsets[k-1], min_support)\n",
    "    frequent_itemsets[k] = cur_frequent_itemsets\n",
    "    if len(cur_frequent_itemsets) == 0:\n",
    "        print('no found length {}'.format(k))\n",
    "        sys.stdout.flush()\n",
    "        #确保运行时，把缓冲区内容输出到终端，flush解决笔记本文件特定格子的大型循环在代码结束前有时不会输出的问题\n",
    "        break\n",
    "    else:\n",
    "        print('found {} frequent itemsets of length {}'.format(len(cur_frequent_itemsets), k))\n",
    "        sys.stdout.flush()\n",
    "del frequent_itemsets[1]"
   ]
  },
  {
   "cell_type": "code",
   "execution_count": 9,
   "metadata": {},
   "outputs": [
    {
     "data": {
      "text/plain": [
       "'for itemset in frequent_itemsets[1]:\\n    print(itemset)'"
      ]
     },
     "execution_count": 9,
     "metadata": {},
     "output_type": "execute_result"
    }
   ],
   "source": [
    "'''for itemset in frequent_itemsets[1]:\n",
    "    print(itemset)'''\n",
    "    "
   ]
  },
  {
   "cell_type": "code",
   "execution_count": 10,
   "metadata": {},
   "outputs": [
    {
     "data": {
      "text/plain": [
       "'for users, reviews in favorable_reviews_by_users.items():\\n    if users < 2:\\n        print (reviews)'"
      ]
     },
     "execution_count": 10,
     "metadata": {},
     "output_type": "execute_result"
    }
   ],
   "source": [
    "'''for users, reviews in favorable_reviews_by_users.items():\n",
    "    if users < 2:\n",
    "        print (reviews)'''"
   ]
  },
  {
   "cell_type": "code",
   "execution_count": 11,
   "metadata": {},
   "outputs": [
    {
     "data": {
      "text/plain": [
       "'favorable_reviews_by_users'"
      ]
     },
     "execution_count": 11,
     "metadata": {},
     "output_type": "execute_result"
    }
   ],
   "source": [
    "'''favorable_reviews_by_users'''"
   ]
  },
  {
   "cell_type": "code",
   "execution_count": 12,
   "metadata": {},
   "outputs": [
    {
     "data": {
      "text/plain": [
       "'for other_reviewed_movie in reviews - itemset:\\n    print(reviews, other_reviewed_movie)'"
      ]
     },
     "execution_count": 12,
     "metadata": {},
     "output_type": "execute_result"
    }
   ],
   "source": [
    "'''for other_reviewed_movie in reviews - itemset:\n",
    "    print(reviews, other_reviewed_movie)'''"
   ]
  },
  {
   "cell_type": "code",
   "execution_count": 8,
   "metadata": {},
   "outputs": [
    {
     "name": "stdout",
     "output_type": "stream",
     "text": [
      "[(frozenset({64, 7, 79, 98, 100, 174, 50, 181, 56}), 172), (frozenset({64, 7, 79, 98, 100, 172, 50, 181, 56}), 174), (frozenset({64, 7, 79, 98, 100, 172, 174, 181, 56}), 50), (frozenset({64, 7, 79, 98, 100, 172, 174, 50, 56}), 181), (frozenset({64, 7, 79, 98, 100, 172, 174, 50, 181}), 56)]\n"
     ]
    }
   ],
   "source": [
    "#creat rules\n",
    "candidate_rules = []\n",
    "for itemset_length, itemset_counts in frequent_itemsets.items():\n",
    "    for itemset in itemset_counts.keys():\n",
    "        for conclusion in itemset:\n",
    "            premise = itemset - set((conclusion,))\n",
    "            candidate_rules.append((premise, conclusion))\n",
    "print(candidate_rules[-5:])\n",
    "        "
   ]
  },
  {
   "cell_type": "code",
   "execution_count": 9,
   "metadata": {},
   "outputs": [
    {
     "name": "stdout",
     "output_type": "stream",
     "text": [
      "Rule #1\n",
      "Rule: if a person recommends frozenset({98, 181}) they will also recommend 50\n",
      "- confidence: 1.000\n",
      " \n",
      "Rule #2\n",
      "Rule: if a person recommends frozenset({172, 79}) they will also recommend 174\n",
      "- confidence: 1.000\n",
      " \n",
      "Rule #3\n",
      "Rule: if a person recommends frozenset({258, 172}) they will also recommend 174\n",
      "- confidence: 1.000\n",
      " \n",
      "Rule #4\n",
      "Rule: if a person recommends frozenset({1, 181, 7}) they will also recommend 50\n",
      "- confidence: 1.000\n",
      " \n",
      "Rule #5\n",
      "Rule: if a person recommends frozenset({1, 172, 7}) they will also recommend 174\n",
      "- confidence: 1.000\n",
      " \n"
     ]
    }
   ],
   "source": [
    "#extract the association rules\n",
    "correct_counts = defaultdict(int)\n",
    "incorrect_counts = defaultdict(int)\n",
    "for user, reviews in favorable_reviews_by_users.items():\n",
    "    for candidate_rule in candidate_rules:\n",
    "        premise, conclusion = candidate_rule\n",
    "        if premise.issubset(reviews):\n",
    "            if conclusion in reviews:\n",
    "                correct_counts[candidate_rule] +=1\n",
    "            else:\n",
    "                incorrect_counts[candidate_rule] +=1\n",
    "rule_confidence = {candidate_rule: correct_counts[candidate_rule]/float(correct_counts[candidate_rule]+incorrect_counts[candidate_rule])\n",
    "                  for candidate_rule in candidate_rules}\n",
    "from operator  import itemgetter\n",
    "sorted_confidence = sorted(rule_confidence.items(), key=itemgetter(1), reverse=True)\n",
    "for index in range(5):\n",
    "    print(\"Rule #{0}\".format(index+1))\n",
    "    (premise,conclusion) = sorted_confidence[index][0]\n",
    "    print('Rule: if a person recommends {0} they will also recommend {1}'.format(premise, conclusion))\n",
    "    print('- confidence: {0:.3f}'.format(rule_confidence[(premise, conclusion)]))\n",
    "    print(' ')"
   ]
  },
  {
   "cell_type": "code",
   "execution_count": 10,
   "metadata": {},
   "outputs": [
    {
     "name": "stdout",
     "output_type": "stream",
     "text": [
      "Rule #1\n",
      "Rule: if a person recommends Silence of the Lambs, The (1991), Return of the Jedi (1983) they will also recommend Star Wars (1977)\n",
      "- confidence: 1.000\n",
      " \n",
      "Rule #2\n",
      "Rule: if a person recommends Empire Strikes Back, The (1980), Fugitive, The (1993) they will also recommend Raiders of the Lost Ark (1981)\n",
      "- confidence: 1.000\n",
      " \n",
      "Rule #3\n",
      "Rule: if a person recommends Contact (1997), Empire Strikes Back, The (1980) they will also recommend Raiders of the Lost Ark (1981)\n",
      "- confidence: 1.000\n",
      " \n",
      "Rule #4\n",
      "Rule: if a person recommends Toy Story (1995), Return of the Jedi (1983), Twelve Monkeys (1995) they will also recommend Star Wars (1977)\n",
      "- confidence: 1.000\n",
      " \n",
      "Rule #5\n",
      "Rule: if a person recommends Toy Story (1995), Empire Strikes Back, The (1980), Twelve Monkeys (1995) they will also recommend Raiders of the Lost Ark (1981)\n",
      "- confidence: 1.000\n",
      " \n"
     ]
    }
   ],
   "source": [
    "#replace the movie num with name\n",
    "movie_name_filename = 'D:/Program Files (x86)/Python/practice/python download dataset/ml-100k/u.item'\n",
    "movie_name_data = pd.read_csv(movie_name_filename, delimiter='|', header=None, encoding ='mac-roman')\n",
    "movie_name_data.columns = ['MovieID', 'Title', 'Release Date', 'Video Release', 'IMDB', '<UNK>', 'Action', 'Adventure', 'Animation', \n",
    "                           \"Children's\", 'Comedy', 'Crime', 'Documentary', 'Drama', 'Fantasy', 'Film-Noir', 'Horror', 'Musical', 'Mystery', \n",
    "                           'Romance', 'Sci-fi', 'Thriller', 'War', 'Westeren']\n",
    "def get_movie_name(movie_id):\n",
    "    title_object = movie_name_data[movie_name_data['MovieID'] == movie_id]['Title']\n",
    "    title =title_object.values[0]\n",
    "    return title\n",
    "for index in range(5):\n",
    "    print(\"Rule #{0}\".format(index+1))\n",
    "    (premise,conclusion) = sorted_confidence[index][0]\n",
    "    premise_names = ', '.join(get_movie_name(idx) for idx in premise)\n",
    "    conclusion_name = get_movie_name(conclusion)\n",
    "    print('Rule: if a person recommends {0} they will also recommend {1}'.format(premise_names, conclusion_name))\n",
    "    print('- confidence: {0:.3f}'.format(rule_confidence[(premise, conclusion)]))\n",
    "    print(' ')"
   ]
  },
  {
   "cell_type": "code",
   "execution_count": 14,
   "metadata": {},
   "outputs": [
    {
     "name": "stdout",
     "output_type": "stream",
     "text": [
      "Rule #1\n",
      "Rule: if a person recommends Silence of the Lambs, The (1991), Return of the Jedi (1983) they will also recommend Star Wars (1977)\n",
      "-Train confidence: 1.000\n",
      "-Test confidence: 0.936\n",
      " \n",
      "Rule #2\n",
      "Rule: if a person recommends Empire Strikes Back, The (1980), Fugitive, The (1993) they will also recommend Raiders of the Lost Ark (1981)\n",
      "-Train confidence: 1.000\n",
      "-Test confidence: 0.876\n",
      " \n",
      "Rule #3\n",
      "Rule: if a person recommends Contact (1997), Empire Strikes Back, The (1980) they will also recommend Raiders of the Lost Ark (1981)\n",
      "-Train confidence: 1.000\n",
      "-Test confidence: 0.841\n",
      " \n",
      "Rule #4\n",
      "Rule: if a person recommends Toy Story (1995), Return of the Jedi (1983), Twelve Monkeys (1995) they will also recommend Star Wars (1977)\n",
      "-Train confidence: 1.000\n",
      "-Test confidence: 0.932\n",
      " \n",
      "Rule #5\n",
      "Rule: if a person recommends Toy Story (1995), Empire Strikes Back, The (1980), Twelve Monkeys (1995) they will also recommend Raiders of the Lost Ark (1981)\n",
      "-Train confidence: 1.000\n",
      "-Test confidence: 0.903\n",
      " \n"
     ]
    }
   ],
   "source": [
    "#viladate the rules simply, CV is the normal method\n",
    "test_dataset = all_ratings[~all_ratings['UserID'].isin(range(200))]\n",
    "test_favorable = test_dataset[test_dataset['Favorable']]\n",
    "test_favorable_by_users = dict((k, frozenset(v.values)) for k, v in test_favorable.groupby('UserID')['MovieID'])\n",
    "correct_counts = defaultdict(int)\n",
    "incorrect_counts = defaultdict(int)\n",
    "for user, reviews in test_favorable_by_users.items():\n",
    "    for candidate_rule in candidate_rules:\n",
    "        premise, conclusion = candidate_rule\n",
    "        if premise.issubset(reviews):\n",
    "            if conclusion in reviews:\n",
    "                correct_counts[candidate_rule] += 1\n",
    "            else:\n",
    "                incorrect_counts[candidate_rule] += 1\n",
    "test_confidence = {candidate_rule: correct_counts[candidate_rule]/float(correct_counts[candidate_rule]+incorrect_counts[candidate_rule]) \n",
    "                   for candidate_rule in rule_confidence}\n",
    "for index in range(5):\n",
    "    print(\"Rule #{0}\".format(index+1))\n",
    "    (premise,conclusion) = sorted_confidence[index][0]\n",
    "    premise_names = ', '.join(get_movie_name(idx) for idx in premise)\n",
    "    conclusion_name = get_movie_name(conclusion)\n",
    "    print('Rule: if a person recommends {0} they will also recommend {1}'.format(premise_names, conclusion_name))\n",
    "    print('-Train confidence: {0:.3f}'.format(rule_confidence.get((premise, conclusion), -1)))\n",
    "    print('-Test confidence: {0:.3f}'.format(test_confidence.get((premise, conclusion), -1)))\n",
    "    print(' ')"
   ]
  },
  {
   "cell_type": "code",
   "execution_count": null,
   "metadata": {
    "collapsed": true
   },
   "outputs": [],
   "source": []
  }
 ],
 "metadata": {
  "kernelspec": {
   "display_name": "Python 3",
   "language": "python",
   "name": "python3"
  },
  "language_info": {
   "codemirror_mode": {
    "name": "ipython",
    "version": 3
   },
   "file_extension": ".py",
   "mimetype": "text/x-python",
   "name": "python",
   "nbconvert_exporter": "python",
   "pygments_lexer": "ipython3",
   "version": "3.6.1"
  }
 },
 "nbformat": 4,
 "nbformat_minor": 2
}
