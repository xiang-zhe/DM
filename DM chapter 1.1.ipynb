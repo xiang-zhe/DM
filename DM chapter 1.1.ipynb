{
 "cells": [
  {
   "cell_type": "code",
   "execution_count": 2,
   "metadata": {
    "collapsed": true
   },
   "outputs": [],
   "source": [
    "import numpy as np\n",
    "dataset_filename='C:/Users/Administrator/Desktop/p0.txt'   #only the code=utf-8 is ok\n",
    "#X=np.loadtxt(dataset_filename)           some problem with this code: UnicodeDecodeError \n",
    "X=np.genfromtxt(dataset_filename)           "
   ]
  },
  {
   "cell_type": "code",
   "execution_count": 3,
   "metadata": {},
   "outputs": [
    {
     "name": "stdout",
     "output_type": "stream",
     "text": [
      "[[ nan   1.   0.   1.   0.]\n",
      " [  0.   0.   1.   0.   0.]\n",
      " [  1.   0.   1.   0.   0.]\n",
      " [  1.   0.   1.   1.   1.]\n",
      " [  0.   1.   1.   0.   1.]]\n"
     ]
    }
   ],
   "source": [
    "print(X[:5])           #result show that the first number is missing, it's the problem resulted into loadtxt failed? \n"
   ]
  },
  {
   "cell_type": "code",
   "execution_count": 4,
   "metadata": {},
   "outputs": [
    {
     "name": "stdout",
     "output_type": "stream",
     "text": [
      "248 people bought apples\n"
     ]
    }
   ],
   "source": [
    "num_apple_purchase=0\n",
    "for sample in X:\n",
    "    if sample[3]==1:\n",
    "        num_apple_purchase+=1\n",
    "print('{0} people bought apples'.format(num_apple_purchase))\n",
    "features=['pear','milk','banana','apple','bread']\n",
    "n_features=len(features)"
   ]
  },
  {
   "cell_type": "code",
   "execution_count": 5,
   "metadata": {
    "collapsed": true
   },
   "outputs": [],
   "source": [
    "from collections import defaultdict\n",
    "valid_rules=defaultdict(int)\n",
    "invalid_rules=defaultdict(int)\n",
    "num_occurances=defaultdict(int)\n",
    "\n",
    "for sample in X:\n",
    "    for premise in range(5):\n",
    "        if sample[premise]==0:\n",
    "            continue\n",
    "        num_occurances[premise]+=1\n",
    "        for conclusion in range(n_features):\n",
    "            if premise==conclusion:\n",
    "                continue\n",
    "            if sample[conclusion]==1:\n",
    "                valid_rules[(premise,conclusion)]+=1\n",
    "            else:\n",
    "                invalid_rules[(premise,conclusion)]+=1\n",
    "support=valid_rules\n",
    "confidence=defaultdict(float)\n",
    "for premise,conclusion in valid_rules.keys():\n",
    "    rule=(premise,conclusion)\n",
    "    confidence[rule]=valid_rules[rule]/num_occurances[premise]\n",
    "\n",
    "def print_rule(premise,conclusion,support,confidence,features):\n",
    "    premise_name=features[premise]\n",
    "    conclusion_name=features[conclusion]\n",
    "    print('rule: if a pearson buys {0} they will buy {1}'.format(premise_name,conclusion_name))\n",
    "    print('-support:{0}'.format(support[(premise,conclusion)]))\n",
    "    print('-confidence:{0:.3f}'.format(confidence[(premise,conclusion)]))"
   ]
  },
  {
   "cell_type": "code",
   "execution_count": 6,
   "metadata": {},
   "outputs": [
    {
     "name": "stdout",
     "output_type": "stream",
     "text": [
      "rule: if a pearson buys milk they will buy apple\n",
      "-support:125\n",
      "-confidence:0.502\n"
     ]
    }
   ],
   "source": [
    "premise=1\n",
    "conclusion=3\n",
    "print_rule(premise,conclusion,support,confidence,features)"
   ]
  },
  {
   "cell_type": "code",
   "execution_count": 21,
   "metadata": {},
   "outputs": [
    {
     "name": "stdout",
     "output_type": "stream",
     "text": [
      "defaultdict(<class 'int'>, {(0, 1): 122, (0, 3): 122, (1, 3): 125, (3, 1): 125, (0, 2): 125, (2, 0): 125, (0, 4): 130, (2, 3): 127, (2, 4): 126, (3, 0): 121, (3, 2): 127, (3, 4): 130, (4, 0): 130, (4, 2): 126, (4, 3): 130, (1, 2): 110, (1, 4): 135, (2, 1): 110, (4, 1): 135, (1, 0): 121})\n",
      "defaultdict(<class 'int'>, {(0, 2): 126, (0, 4): 121, (1, 0): 128, (1, 2): 139, (1, 4): 114, (3, 0): 127, (3, 2): 121, (3, 4): 118, (2, 0): 127, (2, 1): 142, (2, 3): 125, (2, 4): 126, (0, 1): 129, (0, 3): 129, (3, 1): 123, (4, 1): 117, (1, 3): 124, (4, 0): 122, (4, 3): 122, (4, 2): 126})\n",
      "defaultdict(<class 'int'>, {0: 251, 1: 249, 3: 248, 2: 252, 4: 252})\n"
     ]
    }
   ],
   "source": [
    "print(valid_rules)\n",
    "print(invalid_rules)\n",
    "print(num_occurances)"
   ]
  },
  {
   "cell_type": "code",
   "execution_count": 8,
   "metadata": {},
   "outputs": [
    {
     "name": "stdout",
     "output_type": "stream",
     "text": [
      "rule #1\n",
      "rule: if a pearson buys milk they will buy bread\n",
      "-support:135\n",
      "-confidence:0.542\n",
      "rule #2\n",
      "rule: if a pearson buys bread they will buy milk\n",
      "-support:135\n",
      "-confidence:0.536\n",
      "rule #3\n",
      "rule: if a pearson buys pear they will buy bread\n",
      "-support:130\n",
      "-confidence:0.518\n",
      "rule #4\n",
      "rule: if a pearson buys apple they will buy bread\n",
      "-support:130\n",
      "-confidence:0.524\n",
      "rule #5\n",
      "rule: if a pearson buys bread they will buy pear\n",
      "-support:130\n",
      "-confidence:0.516\n"
     ]
    }
   ],
   "source": [
    "from operator import itemgetter\n",
    "sorted_support=sorted(support.items(),key=itemgetter(1),reverse=True)\n",
    "for index in range(5):\n",
    "    print('rule #{0}'.format(index+1))\n",
    "    premise,conclusion=sorted_support[index][0]\n",
    "    print_rule(premise,conclusion,support,confidence,features)"
   ]
  },
  {
   "cell_type": "code",
   "execution_count": 9,
   "metadata": {},
   "outputs": [
    {
     "name": "stdout",
     "output_type": "stream",
     "text": [
      "rule #1\n",
      "rule: if a pearson buys milk they will buy bread\n",
      "-support:135\n",
      "-confidence:0.542\n",
      "rule #2\n",
      "rule: if a pearson buys bread they will buy milk\n",
      "-support:135\n",
      "-confidence:0.536\n",
      "rule #3\n",
      "rule: if a pearson buys apple they will buy bread\n",
      "-support:130\n",
      "-confidence:0.524\n",
      "rule #4\n",
      "rule: if a pearson buys pear they will buy bread\n",
      "-support:130\n",
      "-confidence:0.518\n",
      "rule #5\n",
      "rule: if a pearson buys bread they will buy pear\n",
      "-support:130\n",
      "-confidence:0.516\n"
     ]
    }
   ],
   "source": [
    "sorted_confidence=sorted(confidence.items(),key=itemgetter(1),reverse=True)\n",
    "for index in range(5):\n",
    "    print('rule #{0}'.format(index+1))\n",
    "    premise,conclusion=sorted_confidence[index][0]\n",
    "    print_rule(premise,conclusion,support,confidence,features)"
   ]
  },
  {
   "cell_type": "code",
   "execution_count": null,
   "metadata": {
    "collapsed": true
   },
   "outputs": [],
   "source": []
  },
  {
   "cell_type": "code",
   "execution_count": 28,
   "metadata": {
    "collapsed": true
   },
   "outputs": [],
   "source": [
    "filename='C:/Users/Administrator/Desktop/p1.txt'   #only the code=utf-8 is ok\n",
    "#X=np.loadtxt(dataset_filename)           some problem with this code: UnicodeDecodeError \n",
    "Y=np.genfromtxt(filename) "
   ]
  },
  {
   "cell_type": "code",
   "execution_count": null,
   "metadata": {
    "collapsed": true
   },
   "outputs": [],
   "source": []
  },
  {
   "cell_type": "code",
   "execution_count": null,
   "metadata": {
    "collapsed": true
   },
   "outputs": [],
   "source": []
  },
  {
   "cell_type": "code",
   "execution_count": 35,
   "metadata": {},
   "outputs": [
    {
     "ename": "UnicodeDecodeError",
     "evalue": "'utf-8' codec can't decode byte 0xff in position 0: invalid start byte",
     "output_type": "error",
     "traceback": [
      "\u001b[1;31m---------------------------------------------------------------------------\u001b[0m",
      "\u001b[1;31mUnicodeDecodeError\u001b[0m                        Traceback (most recent call last)",
      "\u001b[1;32m<ipython-input-35-5b587cbfa073>\u001b[0m in \u001b[0;36m<module>\u001b[1;34m()\u001b[0m\n\u001b[0;32m      1\u001b[0m \u001b[0mf\u001b[0m\u001b[1;33m=\u001b[0m\u001b[0mopen\u001b[0m\u001b[1;33m(\u001b[0m\u001b[1;34m'C:/Users/Administrator/Desktop/p.txt'\u001b[0m\u001b[1;33m,\u001b[0m\u001b[0mencoding\u001b[0m\u001b[1;33m=\u001b[0m\u001b[1;34m'utf-8'\u001b[0m\u001b[1;33m)\u001b[0m\u001b[1;33m\u001b[0m\u001b[0m\n\u001b[1;32m----> 2\u001b[1;33m \u001b[0mprint\u001b[0m\u001b[1;33m(\u001b[0m\u001b[0mf\u001b[0m\u001b[1;33m.\u001b[0m\u001b[0mread\u001b[0m\u001b[1;33m(\u001b[0m\u001b[1;33m)\u001b[0m\u001b[1;33m)\u001b[0m\u001b[1;33m\u001b[0m\u001b[0m\n\u001b[0m",
      "\u001b[1;32mD:\\Anaconda3\\lib\\codecs.py\u001b[0m in \u001b[0;36mdecode\u001b[1;34m(self, input, final)\u001b[0m\n\u001b[0;32m    319\u001b[0m         \u001b[1;31m# decode input (taking the buffer into account)\u001b[0m\u001b[1;33m\u001b[0m\u001b[1;33m\u001b[0m\u001b[0m\n\u001b[0;32m    320\u001b[0m         \u001b[0mdata\u001b[0m \u001b[1;33m=\u001b[0m \u001b[0mself\u001b[0m\u001b[1;33m.\u001b[0m\u001b[0mbuffer\u001b[0m \u001b[1;33m+\u001b[0m \u001b[0minput\u001b[0m\u001b[1;33m\u001b[0m\u001b[0m\n\u001b[1;32m--> 321\u001b[1;33m         \u001b[1;33m(\u001b[0m\u001b[0mresult\u001b[0m\u001b[1;33m,\u001b[0m \u001b[0mconsumed\u001b[0m\u001b[1;33m)\u001b[0m \u001b[1;33m=\u001b[0m \u001b[0mself\u001b[0m\u001b[1;33m.\u001b[0m\u001b[0m_buffer_decode\u001b[0m\u001b[1;33m(\u001b[0m\u001b[0mdata\u001b[0m\u001b[1;33m,\u001b[0m \u001b[0mself\u001b[0m\u001b[1;33m.\u001b[0m\u001b[0merrors\u001b[0m\u001b[1;33m,\u001b[0m \u001b[0mfinal\u001b[0m\u001b[1;33m)\u001b[0m\u001b[1;33m\u001b[0m\u001b[0m\n\u001b[0m\u001b[0;32m    322\u001b[0m         \u001b[1;31m# keep undecoded input until the next call\u001b[0m\u001b[1;33m\u001b[0m\u001b[1;33m\u001b[0m\u001b[0m\n\u001b[0;32m    323\u001b[0m         \u001b[0mself\u001b[0m\u001b[1;33m.\u001b[0m\u001b[0mbuffer\u001b[0m \u001b[1;33m=\u001b[0m \u001b[0mdata\u001b[0m\u001b[1;33m[\u001b[0m\u001b[0mconsumed\u001b[0m\u001b[1;33m:\u001b[0m\u001b[1;33m]\u001b[0m\u001b[1;33m\u001b[0m\u001b[0m\n",
      "\u001b[1;31mUnicodeDecodeError\u001b[0m: 'utf-8' codec can't decode byte 0xff in position 0: invalid start byte"
     ]
    }
   ],
   "source": [
    "f=open('C:/Users/Administrator/Desktop/p.txt',encoding='utf-8')\n",
    "print(f.read())"
   ]
  },
  {
   "cell_type": "code",
   "execution_count": null,
   "metadata": {
    "collapsed": true
   },
   "outputs": [],
   "source": []
  }
 ],
 "metadata": {
  "kernelspec": {
   "display_name": "Python 3",
   "language": "python",
   "name": "python3"
  },
  "language_info": {
   "codemirror_mode": {
    "name": "ipython",
    "version": 3
   },
   "file_extension": ".py",
   "mimetype": "text/x-python",
   "name": "python",
   "nbconvert_exporter": "python",
   "pygments_lexer": "ipython3",
   "version": "3.6.1"
  }
 },
 "nbformat": 4,
 "nbformat_minor": 2
}
