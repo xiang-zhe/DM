{
 "cells": [
  {
   "cell_type": "code",
   "execution_count": 10,
   "metadata": {
    "collapsed": true
   },
   "outputs": [],
   "source": [
    "import numpy as np\n",
    "import pandas as pd\n",
    "import datetime as dt\n",
    "parser = lambda Date: pd.datetime.strptime(Date, '%a, %b %d, %Y')\n",
    "dataset = pd.read_csv('C:/Users/Administrator/Desktop/NBA.csv', encoding='ANSI',parse_dates=['Date'], date_parser=parser,usecols=[0,2,3,4,5,6,7,8])\n",
    "dataset.columns=['Date', 'Visitor Team', 'VisitorPts', 'Home Team', 'HomePts','Score Type', 'OT?', 'Notes']"
   ]
  },
  {
   "cell_type": "code",
   "execution_count": 11,
   "metadata": {
    "collapsed": true
   },
   "outputs": [],
   "source": [
    "dataset['HomeWin'] = dataset['VisitorPts'] < dataset['HomePts']\n",
    "dataset['HomeLastWin'] = np.NAN\n",
    "dataset['VisitorLastWin'] = np.NAN\n",
    "y_true = dataset['HomeWin'].values    #类别数据，sklearn可以直接读取\n",
    "from collections import defaultdict\n",
    "won_last = defaultdict(int)\n",
    "for index, row in dataset.sort_values('Date').iterrows():\n",
    "    home_team = row['Home Team']\n",
    "    visitor_team = row['Visitor Team']\n",
    "    row['HomeLastWin'] = won_last[home_team]\n",
    "    row[\"VisitorLastWin\"] = won_last[visitor_team]\n",
    "    dataset.iloc[index] = row \n",
    "    won_last[home_team] = row['HomeWin']\n",
    "    won_last[visitor_team] = not row['HomeWin']\n",
    "#dataset.iloc[20:25]"
   ]
  },
  {
   "cell_type": "code",
   "execution_count": 12,
   "metadata": {},
   "outputs": [
    {
     "name": "stdout",
     "output_type": "stream",
     "text": [
      "Accuracy: 57.5%\n"
     ]
    }
   ],
   "source": [
    "from sklearn.tree import DecisionTreeClassifier\n",
    "from sklearn.model_selection import cross_val_score\n",
    "clf = DecisionTreeClassifier(random_state=14)\n",
    "X_previouswins = dataset[['HomeLastWin', 'VisitorLastWin']].values\n",
    "scores = cross_val_score(clf, X_previouswins, y_true, scoring='accuracy')\n",
    "print('Accuracy: {0:.1f}%'.format(np.mean(scores)*100))"
   ]
  },
  {
   "cell_type": "code",
   "execution_count": 13,
   "metadata": {
    "collapsed": true
   },
   "outputs": [],
   "source": [
    "standings = pd.read_csv('C:/Users/Administrator/Desktop/standings.csv', encoding='ANSI',skiprows=[0,])\n",
    "#standings.head()"
   ]
  },
  {
   "cell_type": "code",
   "execution_count": 14,
   "metadata": {},
   "outputs": [
    {
     "name": "stdout",
     "output_type": "stream",
     "text": [
      "Accuracy: 59.7%\n"
     ]
    }
   ],
   "source": [
    "#用主客场和排名分类\n",
    "dataset['HomeTeamRanksHigher']=0\n",
    "for index, row in dataset.iterrows():\n",
    "    home_team = row['Home Team']\n",
    "    visitor_team = row['Visitor Team'] \n",
    "    if home_team == 'New Orleans Pelicans':\n",
    "        home_team = 'New Orleans Hornets'\n",
    "    elif visitor_team == 'New Orleans Pelicans':\n",
    "        visitor_team = 'New Orleans Hornets'\n",
    "    home_rank = standings[standings['Team'] == home_team]['Rk'].values[0]\n",
    "    #print(home_rank,',',visitor_team, index)\n",
    "    visitor_rank = standings[standings['Team'] == visitor_team]['Rk'].values[0]\n",
    "    #print(index, visitor_team,visitor_rank)\n",
    "\n",
    "        \n",
    "    row['HomeTeamRanksHigher'] = int(home_rank > visitor_rank)\n",
    "    dataset.iloc[index] = row\n",
    "X_homehigher = dataset[['HomeLastWin', 'VisitorLastWin', 'HomeTeamRanksHigher']].values\n",
    "scores = cross_val_score(clf, X_homehigher, y_true, scoring='accuracy')\n",
    "print('Accuracy: {0:.1f}%'.format(np.mean(scores)*100))"
   ]
  },
  {
   "cell_type": "code",
   "execution_count": 15,
   "metadata": {},
   "outputs": [
    {
     "name": "stdout",
     "output_type": "stream",
     "text": [
      "Accuracy: 57.8%\n"
     ]
    }
   ],
   "source": [
    "#用排名和上场赢家分类\n",
    "last_match_winner = defaultdict(int)    #为什么这里是int，而不是str\n",
    "dataset['HomeTeamWonLast'] = 0 \n",
    "for index, row in dataset.iterrows():\n",
    "    home_team = row['Home Team']\n",
    "    visitor_team = row['Visitor Team']\n",
    "    teams = tuple(sorted([home_team, visitor_team]))\n",
    "    row['HomeTeamWonLast'] = 1 if last_match_winner[teams] == row['Home Team'] else 0\n",
    "    dataset.iloc[index] =row\n",
    "    winner = row['Home Team'] if row['HomeWin'] else row['Visitor Team']\n",
    "    last_match_winner[teams] = winner\n",
    "    \n",
    "X_lastwinner = dataset[['HomeTeamRanksHigher', 'HomeTeamWonLast']].values\n",
    "clf = DecisionTreeClassifier(random_state=14)\n",
    "scores = cross_val_score(clf, X_lastwinner, y_true, scoring='accuracy')\n",
    "print('Accuracy: {0:.1f}%'.format(np.mean(scores)*100))"
   ]
  },
  {
   "cell_type": "code",
   "execution_count": 16,
   "metadata": {},
   "outputs": [
    {
     "name": "stdout",
     "output_type": "stream",
     "text": [
      "Accuracy: 59.5%\n"
     ]
    }
   ],
   "source": [
    "#team names were transformed into num_values variables\n",
    "from sklearn.preprocessing import LabelEncoder\n",
    "encoding = LabelEncoder()\n",
    "encoding.fit(dataset['Home Team'].values)\n",
    "home_teams = encoding.transform(dataset['Home Team'].values)\n",
    "#print(home_teams)\n",
    "visitor_teams = encoding.transform(dataset['Visitor Team'].values)\n",
    "#print(visitor_teams)\n",
    "X_teams = np.vstack([home_teams, visitor_teams]).T\n",
    "#print(X_teams)\n",
    "# num_values were transformed into binary\n",
    "from sklearn.preprocessing import OneHotEncoder\n",
    "onehot = OneHotEncoder()\n",
    "X_team_expended = onehot.fit_transform(X_teams).todense()\n",
    "#print(X_team_expended)\n",
    "clf = DecisionTreeClassifier(random_state=14)\n",
    "scores = cross_val_score(clf, X_team_expended, y_true, scoring='accuracy')\n",
    "print('Accuracy: {0:.1f}%'.format(np.mean(scores)*100))"
   ]
  },
  {
   "cell_type": "code",
   "execution_count": 17,
   "metadata": {},
   "outputs": [
    {
     "name": "stdout",
     "output_type": "stream",
     "text": [
      "Accuracy: 58.4%\n"
     ]
    }
   ],
   "source": [
    "# using Randomforestclassifier\n",
    "from sklearn.ensemble import RandomForestClassifier\n",
    "clf = RandomForestClassifier(random_state=14)\n",
    "scores = cross_val_score(clf, X_teams, y_true, scoring='accuracy')\n",
    "print('Accuracy: {0:.1f}%'.format(np.mean(scores)*100))"
   ]
  },
  {
   "cell_type": "code",
   "execution_count": 10,
   "metadata": {},
   "outputs": [
    {
     "name": "stdout",
     "output_type": "stream",
     "text": [
      "Accuracy: 57.6%\n"
     ]
    }
   ],
   "source": [
    "X_all = np.hstack([X_homehigher, X_teams])\n",
    "clf = RandomForestClassifier(random_state=14)\n",
    "scores = cross_val_score(clf, X_all, y_true, scoring='accuracy')\n",
    "print('Accuracy: {0:.1f}%'.format(np.mean(scores)*100))"
   ]
  },
  {
   "cell_type": "code",
   "execution_count": 35,
   "metadata": {},
   "outputs": [
    {
     "name": "stdout",
     "output_type": "stream",
     "text": [
      "Accuracy: 62.9%\n"
     ]
    }
   ],
   "source": [
    "#gridsearchCV looking for best parameters\n",
    "from sklearn.model_selection import GridSearchCV\n",
    "parameter_space = {'max_features':[2, 3, 4, 5, 'auto'], 'n_estimators': [100,], 'criterion': ['gini', 'entropy'], 'min_samples_leaf': [2, 4, 6]}\n",
    "clf = RandomForestClassifier(random_state=14)\n",
    "grid = GridSearchCV(clf, parameter_space)\n",
    "grid.fit(X_all, y_true)\n",
    "print('Accuracy: {0:.1f}%'.format(grid.best_score_ *100))"
   ]
  },
  {
   "cell_type": "code",
   "execution_count": 36,
   "metadata": {},
   "outputs": [
    {
     "name": "stdout",
     "output_type": "stream",
     "text": [
      "RandomForestClassifier(bootstrap=True, class_weight=None, criterion='gini',\n",
      "            max_depth=None, max_features=5, max_leaf_nodes=None,\n",
      "            min_impurity_split=1e-07, min_samples_leaf=2,\n",
      "            min_samples_split=2, min_weight_fraction_leaf=0.0,\n",
      "            n_estimators=100, n_jobs=1, oob_score=False, random_state=14,\n",
      "            verbose=0, warm_start=False)\n"
     ]
    }
   ],
   "source": [
    "print(grid.best_estimator_)"
   ]
  },
  {
   "cell_type": "code",
   "execution_count": 18,
   "metadata": {},
   "outputs": [
    {
     "ename": "TypeError",
     "evalue": "'tuple' object is not callable",
     "output_type": "error",
     "traceback": [
      "\u001b[1;31m---------------------------------------------------------------------------\u001b[0m",
      "\u001b[1;31mTypeError\u001b[0m                                 Traceback (most recent call last)",
      "\u001b[1;32m<ipython-input-18-c568de07de0b>\u001b[0m in \u001b[0;36m<module>\u001b[1;34m()\u001b[0m\n\u001b[1;32m----> 1\u001b[1;33m \u001b[0mX_teams\u001b[0m\u001b[1;33m.\u001b[0m\u001b[0mshape\u001b[0m\u001b[1;33m(\u001b[0m\u001b[1;33m)\u001b[0m\u001b[1;33m\u001b[0m\u001b[0m\n\u001b[0m",
      "\u001b[1;31mTypeError\u001b[0m: 'tuple' object is not callable"
     ]
    }
   ],
   "source": [
    "X_teams.shape()"
   ]
  },
  {
   "cell_type": "code",
   "execution_count": null,
   "metadata": {
    "collapsed": true
   },
   "outputs": [],
   "source": []
  }
 ],
 "metadata": {
  "kernelspec": {
   "display_name": "Python 3",
   "language": "python",
   "name": "python3"
  },
  "language_info": {
   "codemirror_mode": {
    "name": "ipython",
    "version": 3
   },
   "file_extension": ".py",
   "mimetype": "text/x-python",
   "name": "python",
   "nbconvert_exporter": "python",
   "pygments_lexer": "ipython3",
   "version": "3.6.1"
  }
 },
 "nbformat": 4,
 "nbformat_minor": 2
}
