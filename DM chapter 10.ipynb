{
 "cells": [
  {
   "cell_type": "code",
   "execution_count": null,
   "metadata": {
    "collapsed": true
   },
   "outputs": [],
   "source": [
    "'''jFaFJhRQeb2r3F-DO3X7Cc5mCok'''"
   ]
  },
  {
   "cell_type": "code",
   "execution_count": null,
   "metadata": {
    "collapsed": true
   },
   "outputs": [],
   "source": [
    "CLIENT_ID = \"rdapp\"\n",
    "CLIENT_SECRET = \"jFaFJhRQeb2r3F-DO3X7Cc5mCok\"\n",
    "\n",
    "USER_AGENT = \"python: DM chapter 10 (by /u/xiang-zhe)\" #设置独立唯一的代理，否则下载很受限制\n",
    "USERNAME = \"xiang-zhe\"\n",
    "PASSWORD = \"qq123456\""
   ]
  },
  {
   "cell_type": "code",
   "execution_count": null,
   "metadata": {
    "collapsed": true
   },
   "outputs": [],
   "source": [
    "def login(username, password):\n",
    "    \n",
    "    if password is None: #如果密码设置None，则要在终端输入密码\n",
    "        password = getpass.getpass(\"Enter reddit password for user {}: \".format(username))\n",
    "    headers = {\"User-Agent\": USER_AGENT} # \n",
    "    client_auth = requests.auth.HTTPBasicAuth(CLIENT_ID, CLIENT_SECRET) # 创建HTTP授权对象，以登录reddit服务器。\n",
    "    post_data = {\"grant_type\": \"password\", \"username\": username, \"password\": password} # 发起POST请求到access_token端点以实现登录\n",
    "    response = requests.post(\"https://www.reddit.com/api/v1/access_token\", auth=client_auth, data=post_data, headers=headers)\n",
    "    #函数使用requests库发起登录请求（通过HTTP POST请求实现）， POST请求返回的结果为字典类型。其中有一项就是进一步请求所需的令牌。\n",
    "    return response.json()\n",
    "token = login(USERNAME, PASSWORD) # 调用上述登录函数，获取令牌。\n"
   ]
  }
 ],
 "metadata": {
  "kernelspec": {
   "display_name": "Python [conda root]",
   "language": "python",
   "name": "conda-root-py"
  },
  "language_info": {
   "codemirror_mode": {
    "name": "ipython",
    "version": 3
   },
   "file_extension": ".py",
   "mimetype": "text/x-python",
   "name": "python",
   "nbconvert_exporter": "python",
   "pygments_lexer": "ipython3",
   "version": "3.6.2"
  }
 },
 "nbformat": 4,
 "nbformat_minor": 2
}
