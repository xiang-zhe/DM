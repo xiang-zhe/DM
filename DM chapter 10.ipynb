{
 "cells": [
  {
   "cell_type": "code",
   "execution_count": 1,
   "metadata": {},
   "outputs": [
    {
     "data": {
      "text/plain": [
       "'CLIENT_ID = \"TJbulF_oV45N_A\"\\nCLIENT_SECRET = \"jFaFJhRQeb2r3F-DO3X7Cc5mCok\"'"
      ]
     },
     "execution_count": 1,
     "metadata": {},
     "output_type": "execute_result"
    }
   ],
   "source": [
    "'''CLIENT_ID = \"TJbulF_oV45N_A\"\n",
    "CLIENT_SECRET = \"jFaFJhRQeb2r3F-DO3X7Cc5mCok\"'''"
   ]
  },
  {
   "cell_type": "code",
   "execution_count": 2,
   "metadata": {
    "collapsed": true
   },
   "outputs": [],
   "source": [
    "CLIENT_ID = \"TJbulF_oV45N_A\"\n",
    "CLIENT_SECRET = \"jFaFJhRQeb2r3F-DO3X7Cc5mCok\"\n",
    "\n",
    "USER_AGENT = \"python:<DM chapter 10> (by /u/xiang-zhe)\" #设置独立唯一的代理，否则下载很受限制\n",
    "USERNAME = \"xiang-zhe\"\n",
    "PASSWORD = \"qq123456\""
   ]
  },
  {
   "cell_type": "code",
   "execution_count": 3,
   "metadata": {
    "collapsed": true
   },
   "outputs": [],
   "source": [
    "import requests\n",
    "def login(username, password):\n",
    "    \n",
    "    if password is None: #如果密码设置None，则要在终端输入密码\n",
    "        password = getpass.getpass(\"Enter reddit password for user {}: \".format(username))\n",
    "    headers = {\"User-Agent\": USER_AGENT} # \n",
    "    client_auth = requests.auth.HTTPBasicAuth(CLIENT_ID, CLIENT_SECRET) # 创建HTTP授权对象，以登录reddit服务器。\n",
    "    post_data = {\"grant_type\": \"password\", \"username\": username, \"password\": password} # 发起POST请求到access_token端点以实现登录\n",
    "    response = requests.post(\"https://www.reddit.com/api/v1/access_token\", auth=client_auth, data=post_data, headers=headers)\n",
    "    #函数使用requests库发起登录请求（通过HTTP POST请求实现）， POST请求返回的结果为字典类型。其中有一项就是进一步请求所需的令牌。\n",
    "    return response.json()\n",
    "token = login(USERNAME, PASSWORD) # 调用上述登录函数，获取令牌。\n"
   ]
  },
  {
   "cell_type": "code",
   "execution_count": 4,
   "metadata": {},
   "outputs": [
    {
     "data": {
      "text/plain": [
       "{'access_token': 'jVuU1hLPiLCpNi1iHr2XvumJQ3U',\n",
       " 'expires_in': 3600,\n",
       " 'scope': '*',\n",
       " 'token_type': 'bearer'}"
      ]
     },
     "execution_count": 4,
     "metadata": {},
     "output_type": "execute_result"
    }
   ],
   "source": [
    "token"
   ]
  },
  {
   "cell_type": "code",
   "execution_count": 5,
   "metadata": {},
   "outputs": [
    {
     "name": "stdout",
     "output_type": "stream",
     "text": [
      "The Latest: Trump says he’d like to testify in Russia probe\n",
      "Kenya Just Banned A Humiliating And Painful Exam For Men Suspected Of Being Gay: Forced anal exams are still carried out in several countries despite being considered a degrading form of torture and having no medical merit.\n",
      "'Christianity as default is gone': the rise of a non-Christian Europe - Figures show a majority of young adults in 12 countries have no faith, with Czechs least religious at 91% of that age group saying they have no religious affiliation.\n",
      "Charges dropped against most Turkish officers who beat protesters in US\n",
      "‘Lone DNC Hacker’ Guccifer 2.0 Slipped Up and Revealed He Was a Russian Intelligence Officer\n",
      "Firefox maker Mozilla to stop Facebook advertising because of data scandal\n",
      "China responds to Trump tariffs with proposed list of 128 US products to target\n",
      "World's largest collection of ocean garbage is now twice the size of Texas\n",
      "Turkish singer faces 10 months of jail time for insulting President Erdogan\n",
      "Trump just slammed China with tariffs on $50 billion worth of goods in a move that 'could escalate into a global trade war\n",
      "UK government finally agrees to allow six-year-old Alfie Dingley to use medical cannabis after 370000 name petition delivered to Downing Street\n",
      "Israeli Teenager Detained For Urinating On Memorial at Auschwitz\n",
      "Trump to announce $50B in new tariffs against China\n",
      "Elon Musk has set aside $15 million for an XPRIZE contest for entrepreneurs who can find the most effective way to use software to teach illiterate children living in extreme poverty.\n",
      "Mueller Grants Immunity to Organizer of Seychelles Back Channel Meeting, Calls Him Back\n",
      "McDonald's Becomes the First Restaurant Company to Set Approved Science Based Target to Reduce Greenhouse Gas Emissions - “by 2030. This is the equivalent of taking 32 million passenger cars off the road for an entire year or planting 3.8 billion trees and growing them for 10 years.”\n",
      "UK's post-Brexit blue passports to be made in France\n",
      "44 African nations sign pact establishing free trade area\n",
      "Cambridge Analytica: search of London HQ delayed by wait for warrant | Guardian\n",
      "European Union and six other countries exempted from U.S. metals tariffs.\n",
      "'Cambridge Analytica HQ evacuated' amid reports of a suspicious package\n",
      "A military-grade nerve toxin attack on former Russian double agent Sergei Skripal and his daughter may have left them with compromised mental capacity and it is unclear whether they will recover\n",
      "President Trump on Wednesday condemned Russia’s alleged poisoning of a former double agent in the U.K. during a call with French President Emmanuel Macron, after he failed to raise the subject in a call with Russian President Vladimir Putin.\n",
      "Canadian marijuana legalization bill survives Senate vote\n",
      "Identical twins and 'carousels': Russia's fairground election - 17 people were photographed by Reuters apparently casting ballots at more than one polling station Sunday in the town of Ust-Djeguta, southern Russia.\n"
     ]
    }
   ],
   "source": [
    "subreddit = \"worldnews\"\n",
    "url = \"https://oauth.reddit.com/r/{}\".format(subreddit)\n",
    "headers = {\"Authorization\": \"bearer {}\".format(token['access_token']), \"User-Agent\": USER_AGENT} #设置头部，这样才能指定授权令牌\n",
    "response = requests.get(url, headers=headers)\n",
    "result = response.json()\n",
    "for story in result['data']['children']:\n",
    "    print(story['data']['title'])"
   ]
  },
  {
   "cell_type": "code",
   "execution_count": 6,
   "metadata": {
    "collapsed": true
   },
   "outputs": [],
   "source": [
    "#构建函数提取任意subreddit的数据\n",
    "from time import sleep\n",
    "def get_links(subreddit, token, n_pages=5):\n",
    "    stories = []\n",
    "    after = None # 游标\n",
    "    for page_number in range(n_pages):\n",
    "        headers = {\"Authorization\": \"bearer {}\".format(token['access_token']), \"User-Agent\": USER_AGENT}\n",
    "        url = \"https://oauth.reddit.com/r/{}?limit=100\".format(subreddit)\n",
    "        if after:\n",
    "            url += \"&after={}\".format(after) #游标添加到url后面告诉获取哪个页面\n",
    "        response = requests.get(url, headers=headers)\n",
    "        result = response.json()\n",
    "        after = result['data']['after']\n",
    "        sleep(2)\n",
    "        stories.extend([(story['data']['title'], story['data']['url'], story['data']['score']) for story in result['data']['children']])\n",
    "    return stories\n",
    "stories = get_links(\"worldnews\", token)"
   ]
  },
  {
   "cell_type": "code",
   "execution_count": 7,
   "metadata": {},
   "outputs": [
    {
     "name": "stdout",
     "output_type": "stream",
     "text": [
      "HTTPSConnectionPool(host='finance.yahoo.com', port=443): Max retries exceeded with url: /news/morning-brief-trump-announce-50b-new-tariffs-china-102504579.html (Caused by NewConnectionError('<requests.packages.urllib3.connection.VerifiedHTTPSConnection object at 0x00000000070674A8>: Failed to establish a new connection: [WinError 10060] 由于连接方在一段时间后没有正确答复或连接的主机没有反应，连接尝试失败。',))\n",
      "HTTPSConnectionPool(host='www.reuters.com', port=443): Max retries exceeded with url: /article/us-britain-russia-eu/russian-agent-may-have-limited-mental-capacity-after-nerve-attack-idUSKBN1GX3C9 (Caused by NewConnectionError('<requests.packages.urllib3.connection.VerifiedHTTPSConnection object at 0x00000000070A0518>: Failed to establish a new connection: [WinError 10060] 由于连接方在一段时间后没有正确答复或连接的主机没有反应，连接尝试失败。',))\n",
      "HTTPSConnectionPool(host='www.reuters.com', port=443): Max retries exceeded with url: /article/us-russia-election-carousel-insight/identical-twins-and-carousels-russias-fairground-election-idUSKBN1GX1TC (Caused by NewConnectionError('<requests.packages.urllib3.connection.VerifiedHTTPSConnection object at 0x00000000070A00F0>: Failed to establish a new connection: [WinError 10060] 由于连接方在一段时间后没有正确答复或连接的主机没有反应，连接尝试失败。',))\n",
      "HTTPSConnectionPool(host='www.reuters.com', port=443): Max retries exceeded with url: /article/us-usa-treasury-puertorico/puerto-rico-reaches-deal-to-access-u-s-disaster-loans-idUSKBN1GY2ND?il=0 (Caused by NewConnectionError('<requests.packages.urllib3.connection.VerifiedHTTPSConnection object at 0x00000000070A0780>: Failed to establish a new connection: [WinError 10060] 由于连接方在一段时间后没有正确答复或连接的主机没有反应，连接尝试失败。',))\n",
      "('Connection aborted.', ConnectionResetError(10054, '远程主机强迫关闭了一个现有的连接。', None, 10054, None))\n",
      "('Connection aborted.', ConnectionResetError(10054, '远程主机强迫关闭了一个现有的连接。', None, 10054, None))\n",
      "HTTPSConnectionPool(host='www.reuters.com', port=443): Max retries exceeded with url: /article/us-india-health/india-allocates-1-5-billion-for-modicare-health-insurance-idUSKBN1GY1GK (Caused by NewConnectionError('<requests.packages.urllib3.connection.VerifiedHTTPSConnection object at 0x00000000070CA6D8>: Failed to establish a new connection: [WinError 10060] 由于连接方在一段时间后没有正确答复或连接的主机没有反应，连接尝试失败。',))\n",
      "HTTPSConnectionPool(host='www.voanews.com', port=443): Max retries exceeded with url: /a/foreign-wives-islamic-state-death-in-iraq/4308150.html (Caused by NewConnectionError('<requests.packages.urllib3.connection.VerifiedHTTPSConnection object at 0x00000000070A0D68>: Failed to establish a new connection: [Errno 11004] getaddrinfo failed',))\n",
      "HTTPSConnectionPool(host='www.reuters.com', port=443): Max retries exceeded with url: /article/us-turkey-security/famous-turkish-singer-sentenced-to-10-months-in-jail-for-insulting-erdogan-idUSKBN1GY1SX (Caused by NewConnectionError('<requests.packages.urllib3.connection.VerifiedHTTPSConnection object at 0x00000000070A05C0>: Failed to establish a new connection: [WinError 10060] 由于连接方在一段时间后没有正确答复或连接的主机没有反应，连接尝试失败。',))\n",
      "HTTPConnectionPool(host='www.cbc.ca', port=80): Max retries exceeded with url: /beta/news/politics/government-cannabis-bill-senate-vote-1.4588560 (Caused by NewConnectionError('<requests.packages.urllib3.connection.HTTPConnection object at 0x00000000070A90F0>: Failed to establish a new connection: [WinError 10060] 由于连接方在一段时间后没有正确答复或连接的主机没有反应，连接尝试失败。',))\n",
      "HTTPSConnectionPool(host='uk.reuters.com', port=443): Max retries exceeded with url: /article/uk-facebook-cambridge-analytica-eu/eu-leaders-tell-social-networks-to-guarantee-users-privacy-idUKKBN1GY31A?rpc=401&amp; (Caused by NewConnectionError('<requests.packages.urllib3.connection.VerifiedHTTPSConnection object at 0x00000000070CA8D0>: Failed to establish a new connection: [WinError 10060] 由于连接方在一段时间后没有正确答复或连接的主机没有反应，连接尝试失败。',))\n",
      "HTTPSConnectionPool(host='www.wsj.com', port=443): Max retries exceeded with url: /articles/venezuelas-maduro-clinging-to-power-uses-hunger-as-an-electoral-weapon-1521734622 (Caused by NewConnectionError('<requests.packages.urllib3.connection.VerifiedHTTPSConnection object at 0x00000000070A0C50>: Failed to establish a new connection: [WinError 10049] 在其上下文中，该请求的地址无效。',))\n",
      "('Connection aborted.', ConnectionResetError(10054, '远程主机强迫关闭了一个现有的连接。', None, 10054, None))\n",
      "(\"bad handshake: SysCallError(10054, 'WSAECONNRESET')\",)\n",
      "HTTPSConnectionPool(host='www.reuters.com', port=443): Max retries exceeded with url: /article/us-turkey-security-internet/turkey-moves-to-supervise-online-content-tightens-grip-on-media-idUSKBN1GY25E (Caused by NewConnectionError('<requests.packages.urllib3.connection.VerifiedHTTPSConnection object at 0x00000000070CA1D0>: Failed to establish a new connection: [WinError 10060] 由于连接方在一段时间后没有正确答复或连接的主机没有反应，连接尝试失败。',))\n",
      "HTTPSConnectionPool(host='www.reuters.com', port=443): Max retries exceeded with url: /article/us-mexico-telecoms/mexicos-wholesale-mobile-network-launches-without-major-carriers-idUSKBN1GY2N8 (Caused by NewConnectionError('<requests.packages.urllib3.connection.VerifiedHTTPSConnection object at 0x00000000070A96D8>: Failed to establish a new connection: [WinError 10060] 由于连接方在一段时间后没有正确答复或连接的主机没有反应，连接尝试失败。',))\n",
      "HTTPSConnectionPool(host='www.reuters.com', port=443): Max retries exceeded with url: /article/us-venezuela-economy/venezuela-to-revalue-ailing-bolivar-currency-from-june-4-idUSKBN1GY3AP (Caused by NewConnectionError('<requests.packages.urllib3.connection.VerifiedHTTPSConnection object at 0x00000000070CA438>: Failed to establish a new connection: [WinError 10060] 由于连接方在一段时间后没有正确答复或连接的主机没有反应，连接尝试失败。',))\n",
      "('Connection aborted.', ConnectionResetError(10054, '远程主机强迫关闭了一个现有的连接。', None, 10054, None))\n",
      "HTTPSConnectionPool(host='www.wsj.com', port=443): Max retries exceeded with url: /articles/toys-r-us-founder-charles-lazarus-has-died-at-94-1521746378 (Caused by NewConnectionError('<requests.packages.urllib3.connection.VerifiedHTTPSConnection object at 0x0000000007067198>: Failed to establish a new connection: [WinError 10049] 在其上下文中，该请求的地址无效。',))\n",
      "HTTPConnectionPool(host='www.dw.com', port=80): Max retries exceeded with url: /en/kenya-court-outlaws-anal-exams-in-landmark-victory-for-gay-rights/a-43094775 (Caused by NewConnectionError('<requests.packages.urllib3.connection.HTTPConnection object at 0x00000000070CACC0>: Failed to establish a new connection: [WinError 10060] 由于连接方在一段时间后没有正确答复或连接的主机没有反应，连接尝试失败。',))\n",
      "HTTPSConnectionPool(host='www.reuters.com', port=443): Max retries exceeded with url: /article/us-algeria-migrants/algeria-has-repatriated-27000-african-migrants-since-2015-minister-idUSKBN1GY36U (Caused by NewConnectionError('<requests.packages.urllib3.connection.VerifiedHTTPSConnection object at 0x00000000070CAF28>: Failed to establish a new connection: [WinError 10060] 由于连接方在一段时间后没有正确答复或连接的主机没有反应，连接尝试失败。',))\n",
      "('Connection aborted.', ConnectionResetError(10054, '远程主机强迫关闭了一个现有的连接。', None, 10054, None))\n",
      "HTTPSConnectionPool(host='www.reuters.com', port=443): Max retries exceeded with url: /article/us-britain-russia-eu/russian-agent-may-have-limited-mental-capacity-after-nerve-attack-idUSKBN1GX3C9 (Caused by NewConnectionError('<requests.packages.urllib3.connection.VerifiedHTTPSConnection object at 0x00000000070CA588>: Failed to establish a new connection: [WinError 10060] 由于连接方在一段时间后没有正确答复或连接的主机没有反应，连接尝试失败。',))\n",
      "HTTPSConnectionPool(host='www.reuters.com', port=443): Max retries exceeded with url: /article/us-usa-trump-russia/house-republicans-vote-to-release-russia-probe-report-idUSKBN1GY233?utm_source=Facebook&amp;utm_medium=Social (Caused by NewConnectionError('<requests.packages.urllib3.connection.VerifiedHTTPSConnection object at 0x00000000070A0518>: Failed to establish a new connection: [WinError 10060] 由于连接方在一段时间后没有正确答复或连接的主机没有反应，连接尝试失败。',))\n",
      "('Connection aborted.', ConnectionResetError(10054, '远程主机强迫关闭了一个现有的连接。', None, 10054, None))\n",
      "HTTPSConnectionPool(host='www.reuters.com', port=443): Max retries exceeded with url: /article/us-usa-trade-china-wto/u-s-to-sue-china-at-wto-for-alleged-trade-violations-wsj-idUSKBN1GY1RH (Caused by NewConnectionError('<requests.packages.urllib3.connection.VerifiedHTTPSConnection object at 0x00000000070A9080>: Failed to establish a new connection: [WinError 10060] 由于连接方在一段时间后没有正确答复或连接的主机没有反应，连接尝试失败。',))\n"
     ]
    },
    {
     "name": "stdout",
     "output_type": "stream",
     "text": [
      "('Connection aborted.', ConnectionResetError(10054, '远程主机强迫关闭了一个现有的连接。', None, 10054, None))\n",
      "HTTPSConnectionPool(host='www.reuters.com', port=443): Max retries exceeded with url: /article/us-britain-russia-eu/russian-agent-may-have-limited-mental-capacity-after-nerve-attack-idUSKBN1GX3C9?feedType=RSS&amp;feedName=worldNews&amp;utm_source=feedburner&amp;utm_medium=feed&amp;utm_campaign=Feed%3A+Reuters%2FworldNews+%28Reuters+World+News%29 (Caused by NewConnectionError('<requests.packages.urllib3.connection.VerifiedHTTPSConnection object at 0x00000000070A98D0>: Failed to establish a new connection: [WinError 10060] 由于连接方在一段时间后没有正确答复或连接的主机没有反应，连接尝试失败。',))\n",
      "HTTPSConnectionPool(host='www.reuters.com', port=443): Max retries exceeded with url: /article/us-netherlands-referendum/dutch-say-no-in-referendum-on-spy-agency-tapping-powers-idUSKBN1GX0QU?il=0 (Caused by NewConnectionError('<requests.packages.urllib3.connection.VerifiedHTTPSConnection object at 0x00000000070A9668>: Failed to establish a new connection: [WinError 10060] 由于连接方在一段时间后没有正确答复或连接的主机没有反应，连接尝试失败。',))\n",
      "HTTPConnectionPool(host='www.dw.com', port=80): Max retries exceeded with url: /en/germanys-immigrant-community-calls-for-better-state-support/a-43091136 (Caused by NewConnectionError('<requests.packages.urllib3.connection.HTTPConnection object at 0x00000000070CA2B0>: Failed to establish a new connection: [WinError 10060] 由于连接方在一段时间后没有正确答复或连接的主机没有反应，连接尝试失败。',))\n",
      "HTTPConnectionPool(host='amp.dw.com', port=80): Max retries exceeded with url: /en/washington-issues-a-pause-on-steel-and-aluminum-tariffs-for-eu-says-us-official/a-43085709 (Caused by NewConnectionError('<requests.packages.urllib3.connection.HTTPConnection object at 0x00000000070CAE48>: Failed to establish a new connection: [WinError 10060] 由于连接方在一段时间后没有正确答复或连接的主机没有反应，连接尝试失败。',))\n",
      "HTTPSConnectionPool(host='uk.reuters.com', port=443): Max retries exceeded with url: /article/uk-france-reform-protests/police-fire-teargas-as-strikes-challenge-macron-across-france-idUKKBN1GY10T (Caused by NewConnectionError('<requests.packages.urllib3.connection.VerifiedHTTPSConnection object at 0x00000000070A0978>: Failed to establish a new connection: [WinError 10060] 由于连接方在一段时间后没有正确答复或连接的主机没有反应，连接尝试失败。',))\n",
      "HTTPSConnectionPool(host='www.reuters.com', port=443): Max retries exceeded with url: /article/france-reform-protests/police-fire-teargas-as-strikes-challenge-macron-across-france-idINKBN1GY1QL (Caused by NewConnectionError('<requests.packages.urllib3.connection.VerifiedHTTPSConnection object at 0x00000000070A05C0>: Failed to establish a new connection: [WinError 10060] 由于连接方在一段时间后没有正确答复或连接的主机没有反应，连接尝试失败。',))\n",
      "(\"bad handshake: SysCallError(10054, 'WSAECONNRESET')\",)\n",
      "(\"bad handshake: SysCallError(10054, 'WSAECONNRESET')\",)\n",
      "HTTPSConnectionPool(host='uk.reuters.com', port=443): Max retries exceeded with url: /article/uk-peru-politics-venezuela/venezuela-socialists-celebrate-peru-leaders-fall-with-fireworks-idUKKBN1GY1H5 (Caused by NewConnectionError('<requests.packages.urllib3.connection.VerifiedHTTPSConnection object at 0x00000000070A0B00>: Failed to establish a new connection: [WinError 10060] 由于连接方在一段时间后没有正确答复或连接的主机没有反应，连接尝试失败。',))\n",
      "HTTPConnectionPool(host='www.cbc.ca', port=80): Max retries exceeded with url: /news/business/titanium-oilsands-cnrl-titaniumcorp-1.4584513 (Caused by NewConnectionError('<requests.packages.urllib3.connection.HTTPConnection object at 0x0000000007067668>: Failed to establish a new connection: [WinError 10060] 由于连接方在一段时间后没有正确答复或连接的主机没有反应，连接尝试失败。',))\n",
      "HTTPSConnectionPool(host='www.reuters.com', port=443): Max retries exceeded with url: /article/us-ukraine-crisis-savchenko/ukraine-detains-war-hero-savchenko-over-suspected-coup-plot-idUSKBN1GY1O4 (Caused by NewConnectionError('<requests.packages.urllib3.connection.VerifiedHTTPSConnection object at 0x0000000007067320>: Failed to establish a new connection: [WinError 10060] 由于连接方在一段时间后没有正确答复或连接的主机没有反应，连接尝试失败。',))\n",
      "HTTPSConnectionPool(host='www.wsj.com', port=443): Max retries exceeded with url: /articles/charges-have-been-dropped-against-most-turkish-officers-in-d-c-clash-1521690922 (Caused by NewConnectionError('<requests.packages.urllib3.connection.VerifiedHTTPSConnection object at 0x00000000070A0278>: Failed to establish a new connection: [WinError 10049] 在其上下文中，该请求的地址无效。',))\n",
      "HTTPSConnectionPool(host='www.reuters.com', port=443): Max retries exceeded with url: /article/us-china-taiwan-usa/china-should-prepare-for-military-action-over-taiwan-chinese-paper-idUSKBN1GY015 (Caused by NewConnectionError('<requests.packages.urllib3.connection.VerifiedHTTPSConnection object at 0x00000000070A09B0>: Failed to establish a new connection: [WinError 10060] 由于连接方在一段时间后没有正确答复或连接的主机没有反应，连接尝试失败。',))\n",
      "HTTPConnectionPool(host='www.dw.com', port=80): Max retries exceeded with url: /en/un-last-three-years-hottest-to-date-costing-billions-and-destroying-livelihoods/a-43078486 (Caused by NewConnectionError('<requests.packages.urllib3.connection.HTTPConnection object at 0x00000000070A0CC0>: Failed to establish a new connection: [WinError 10060] 由于连接方在一段时间后没有正确答复或连接的主机没有反应，连接尝试失败。',))\n",
      "HTTPSConnectionPool(host='www.reuters.com', port=443): Max retries exceeded with url: /article/us-climatechange-un/last-three-years-hottest-on-record-severe-weather-hits-2018-u-n-idUSKBN1GY01D?utm_source=Daily+Carbon+Briefing&amp;utm_campaign=d8a1dcf07f-DailyBriefingManual_22_03_2018&amp;utm_medium=email&amp;utm_term=0_876aab4fd7-d8a1dcf07f-303423917&amp;goal=0_876aab4fd7-d8a1dcf07f-303423917 (Caused by NewConnectionError('<requests.packages.urllib3.connection.VerifiedHTTPSConnection object at 0x00000000070A0F98>: Failed to establish a new connection: [WinError 10060] 由于连接方在一段时间后没有正确答复或连接的主机没有反应，连接尝试失败。',))\n",
      "(\"bad handshake: SysCallError(10054, 'WSAECONNRESET')\",)\n",
      "HTTPSConnectionPool(host='www.reuters.com', port=443): Max retries exceeded with url: /article/us-facebook-cambridge-analytica-germany/german-justice-minister-calls-in-facebook-over-data-scandal-idUSKBN1GY19K (Caused by NewConnectionError('<requests.packages.urllib3.connection.VerifiedHTTPSConnection object at 0x00000000071BA438>: Failed to establish a new connection: [WinError 10060] 由于连接方在一段时间后没有正确答复或连接的主机没有反应，连接尝试失败。',))\n",
      "('Connection aborted.', ConnectionResetError(10054, '远程主机强迫关闭了一个现有的连接。', None, 10054, None))\n",
      "HTTPSConnectionPool(host='www.reuters.com', port=443): Max retries exceeded with url: /article/us-usa-trade/trump-to-set-stage-for-china-tariffs-amid-trade-war-fears-idUSKBN1GY26Y (Caused by NewConnectionError('<requests.packages.urllib3.connection.VerifiedHTTPSConnection object at 0x00000000070A0E10>: Failed to establish a new connection: [WinError 10060] 由于连接方在一段时间后没有正确答复或连接的主机没有反应，连接尝试失败。',))\n",
      "HTTPConnectionPool(host='www.dw.com', port=80): Max retries exceeded with url: /en/turkey-rejects-angela-merkels-criticism-over-afrin-offensive/a-43081853 (Caused by NewConnectionError('<requests.packages.urllib3.connection.HTTPConnection object at 0x0000000007067D68>: Failed to establish a new connection: [WinError 10060] 由于连接方在一段时间后没有正确答复或连接的主机没有反应，连接尝试失败。',))\n",
      "(\"bad handshake: SysCallError(10054, 'WSAECONNRESET')\",)\n",
      "HTTPSConnectionPool(host='www.bloomberg.com', port=443): Max retries exceeded with url: /news/articles/2018-03-20/facebook-sued-by-investors-over-voter-profile-harvesting (Caused by NewConnectionError('<requests.packages.urllib3.connection.VerifiedHTTPSConnection object at 0x00000000070A0A58>: Failed to establish a new connection: [WinError 10060] 由于连接方在一段时间后没有正确答复或连接的主机没有反应，连接尝试失败。',))\n",
      "HTTPSConnectionPool(host='uk.reuters.com', port=443): Max retries exceeded with url: /article/uk-france-sarkozy-libya/sarkozy-denies-wrongdoing-says-libya-lies-make-his-life-hell-idUKKBN1GX0LT?rpc=401&amp; (Caused by NewConnectionError('<requests.packages.urllib3.connection.VerifiedHTTPSConnection object at 0x00000000071BA550>: Failed to establish a new connection: [WinError 10060] 由于连接方在一段时间后没有正确答复或连接的主机没有反应，连接尝试失败。',))\n",
      "HTTPConnectionPool(host='www.dw.com', port=80): Max retries exceeded with url: /en/german-economy-minister-says-he-found-open-ears-in-us-on-tariffs/a-43080630 (Caused by NewConnectionError('<requests.packages.urllib3.connection.HTTPConnection object at 0x00000000070A0390>: Failed to establish a new connection: [WinError 10060] 由于连接方在一段时间后没有正确答复或连接的主机没有反应，连接尝试失败。',))\n"
     ]
    },
    {
     "name": "stdout",
     "output_type": "stream",
     "text": [
      "(\"bad handshake: SysCallError(10054, 'WSAECONNRESET')\",)\n",
      "('Connection aborted.', ConnectionResetError(10054, '远程主机强迫关闭了一个现有的连接。', None, 10054, None))\n",
      "HTTPSConnectionPool(host='uk.reuters.com', port=443): Max retries exceeded with url: /article/uk-saudi-nuclear-falih/saudi-arabia-has-options-if-u-s-walks-from-nuclear-power-deal-minister-idUKKBN1GY3DM?rpc=401&amp; (Caused by NewConnectionError('<requests.packages.urllib3.connection.VerifiedHTTPSConnection object at 0x00000000070A0198>: Failed to establish a new connection: [WinError 10060] 由于连接方在一段时间后没有正确答复或连接的主机没有反应，连接尝试失败。',))\n",
      "HTTPSConnectionPool(host='www.reuters.com', port=443): Max retries exceeded with url: /article/us-usa-china-trade-mofcom/china-says-wto-ruling-shows-u-s-is-a-repeat-abuser-of-trade-remedy-measures-idUSKBN1GX3DM (Caused by NewConnectionError('<requests.packages.urllib3.connection.VerifiedHTTPSConnection object at 0x00000000070A0978>: Failed to establish a new connection: [WinError 10060] 由于连接方在一段时间后没有正确答复或连接的主机没有反应，连接尝试失败。',))\n",
      "HTTPSConnectionPool(host='www.reuters.com', port=443): Max retries exceeded with url: /article/us-france-cryptocurrencies/france-to-create-legal-framework-for-cryptocurrency-offerings-idUSKBN1GY0YE?il=0 (Caused by NewConnectionError('<requests.packages.urllib3.connection.VerifiedHTTPSConnection object at 0x00000000070A0CC0>: Failed to establish a new connection: [WinError 10060] 由于连接方在一段时间后没有正确答复或连接的主机没有反应，连接尝试失败。',))\n",
      "HTTPSConnectionPool(host='www.reuters.com', port=443): Max retries exceeded with url: /article/us-afghanistan-blast/suicide-bomber-kills-more-than-30-near-shrine-in-afghan-capital-idUSKBN1GX0NZ (Caused by NewConnectionError('<requests.packages.urllib3.connection.VerifiedHTTPSConnection object at 0x00000000071BADA0>: Failed to establish a new connection: [WinError 10060] 由于连接方在一段时间后没有正确答复或连接的主机没有反应，连接尝试失败。',))\n",
      "HTTPSConnectionPool(host='www.reuters.com', port=443): Max retries exceeded with url: /article/us-israel-palestinians-arrests/prime-suspect-in-attempted-assassination-of-palestinian-pm-arrested-in-gaza-security-official-idUSKBN1GY14K?feedType=RSS&amp;feedName=worldNews&amp;utm_source=feedburner&amp;utm_medium=feed&amp;utm_campaign=Feed%3A+Reuters%2FworldNews+%28Reuters+World+News%29&amp;&amp;rpc=401 (Caused by NewConnectionError('<requests.packages.urllib3.connection.VerifiedHTTPSConnection object at 0x00000000071BA438>: Failed to establish a new connection: [WinError 10060] 由于连接方在一段时间后没有正确答复或连接的主机没有反应，连接尝试失败。',))\n",
      "HTTPSConnectionPool(host='www.reuters.com', port=443): Max retries exceeded with url: /article/us-usa-china-trade-mofcom/china-blames-u-s-for-staggering-trade-surplus-as-tariffs-loom-idUSKBN1GX3DM (Caused by NewConnectionError('<requests.packages.urllib3.connection.VerifiedHTTPSConnection object at 0x00000000070A9668>: Failed to establish a new connection: [WinError 10060] 由于连接方在一段时间后没有正确答复或连接的主机没有反应，连接尝试失败。',))\n",
      "HTTPSConnectionPool(host='www.reuters.com', port=443): Max retries exceeded with url: /article/us-netherlands-parliament/man-jumps-from-public-gallery-of-dutch-parliament-in-suicide-attempt-police-idUSKBN1GY1HE (Caused by NewConnectionError('<requests.packages.urllib3.connection.VerifiedHTTPSConnection object at 0x00000000071BA198>: Failed to establish a new connection: [WinError 10060] 由于连接方在一段时间后没有正确答复或连接的主机没有反应，连接尝试失败。',))\n",
      "HTTPSConnectionPool(host='www.bloomberg.com', port=443): Max retries exceeded with url: /news/articles/2018-03-20/soaring-u-s-libor-rate-trickles-into-funding-markets-worldwide (Caused by NewConnectionError('<requests.packages.urllib3.connection.VerifiedHTTPSConnection object at 0x0000000007045BA8>: Failed to establish a new connection: [WinError 10060] 由于连接方在一段时间后没有正确答复或连接的主机没有反应，连接尝试失败。',))\n",
      "('Connection aborted.', ConnectionResetError(10054, '远程主机强迫关闭了一个现有的连接。', None, 10054, None))\n",
      "HTTPSConnectionPool(host='www.reuters.com', port=443): Max retries exceeded with url: /article/us-netherlands-referendum/dutch-approve-spy-agency-tapping-powers-in-referendum-exit-poll-idUSKBN1GX0QU?il=0 (Caused by NewConnectionError('<requests.packages.urllib3.connection.VerifiedHTTPSConnection object at 0x0000000007067860>: Failed to establish a new connection: [WinError 10060] 由于连接方在一段时间后没有正确答复或连接的主机没有反应，连接尝试失败。',))\n",
      "HTTPSConnectionPool(host='www.reuters.com', port=443): Max retries exceeded with url: /article/us-usa-china-trade-wto/china-partially-wins-wto-case-over-obama-era-u-s-tariffs-idUSKBN1GX28D (Caused by NewConnectionError('<requests.packages.urllib3.connection.VerifiedHTTPSConnection object at 0x00000000070A0400>: Failed to establish a new connection: [WinError 10060] 由于连接方在一段时间后没有正确答复或连接的主机没有反应，连接尝试失败。',))\n",
      "('Connection aborted.', ConnectionResetError(10054, '远程主机强迫关闭了一个现有的连接。', None, 10054, None))\n",
      "('Connection aborted.', ConnectionResetError(10054, '远程主机强迫关闭了一个现有的连接。', None, 10054, None))\n",
      "HTTPSConnectionPool(host='www.reuters.com', port=443): Max retries exceeded with url: /article/us-peru-politics/peru-prosecutors-seek-to-bar-toppled-president-from-leaving-country-source-idUSKBN1GX27L?feedType=RSS&amp;feedName=worldNews&amp;utm_source=feedburner&amp;utm_medium=feed&amp;utm_campaign=Feed%3A+Reuters%2FworldNews+%28Reuters+World+News%29 (Caused by NewConnectionError('<requests.packages.urllib3.connection.VerifiedHTTPSConnection object at 0x00000000070A91D0>: Failed to establish a new connection: [WinError 10060] 由于连接方在一段时间后没有正确答复或连接的主机没有反应，连接尝试失败。',))\n",
      "HTTPSConnectionPool(host='www.bloomberg.com', port=443): Max retries exceeded with url: /news/articles/2018-03-21/millionaire-pm-of-finland-lambastes-short-sighted-trump-policy (Caused by NewConnectionError('<requests.packages.urllib3.connection.VerifiedHTTPSConnection object at 0x00000000070A0B00>: Failed to establish a new connection: [WinError 10060] 由于连接方在一段时间后没有正确答复或连接的主机没有反应，连接尝试失败。',))\n",
      "HTTPConnectionPool(host='www.dw.com', port=80): Max retries exceeded with url: /en/reporters-without-borders-a-dark-day-for-press-freedom-in-turkey/a-43076272 (Caused by NewConnectionError('<requests.packages.urllib3.connection.HTTPConnection object at 0x0000000007067BE0>: Failed to establish a new connection: [WinError 10060] 由于连接方在一段时间后没有正确答复或连接的主机没有反应，连接尝试失败。',))\n",
      "HTTPSConnectionPool(host='www.reuters.com', port=443): Max retries exceeded with url: /article/us-usa-trade-eu-commissioner/eu-trade-chief-says-hopeful-eu-will-be-exempted-from-u-s-tariffs-idUSKBN1GY132?il=0 (Caused by NewConnectionError('<requests.packages.urllib3.connection.VerifiedHTTPSConnection object at 0x0000000007067048>: Failed to establish a new connection: [WinError 10060] 由于连接方在一段时间后没有正确答复或连接的主机没有反应，连接尝试失败。',))\n",
      "HTTPSConnectionPool(host='www.reuters.com', port=443): Max retries exceeded with url: /article/us-usa-china-trade-mofcom/china-calls-u-s-repeat-abuser-of-world-trade-rules-as-tariffs-loom-idUSKBN1GX3DM (Caused by NewConnectionError('<requests.packages.urllib3.connection.VerifiedHTTPSConnection object at 0x00000000071BACF8>: Failed to establish a new connection: [WinError 10060] 由于连接方在一段时间后没有正确答复或连接的主机没有反应，连接尝试失败。',))\n",
      "HTTPSConnectionPool(host='www.reuters.com', port=443): Max retries exceeded with url: /article/us-philippines-drugs/philippine-police-say-13-killed-in-one-day-of-drug-busts-idUSKBN1GY0H3?il=0 (Caused by NewConnectionError('<requests.packages.urllib3.connection.VerifiedHTTPSConnection object at 0x0000000007045CF8>: Failed to establish a new connection: [WinError 10060] 由于连接方在一段时间后没有正确答复或连接的主机没有反应，连接尝试失败。',))\n",
      "HTTPSConnectionPool(host='in.reuters.com', port=443): Max retries exceeded with url: /article/britain-jaguarlandrover/jaguar-land-rover-to-test-self-driving-valet-parking-on-britains-streets-idINKBN1GY02Y (Caused by NewConnectionError('<requests.packages.urllib3.connection.VerifiedHTTPSConnection object at 0x00000000070A01D0>: Failed to establish a new connection: [WinError 10060] 由于连接方在一段时间后没有正确答复或连接的主机没有反应，连接尝试失败。',))\n",
      "HTTPSConnectionPool(host='www.voanews.com', port=443): Max retries exceeded with url: /a/mattis-praises-saudis-for-humanitarian-aid-to-yemen/4310375.html (Caused by NewConnectionError('<requests.packages.urllib3.connection.VerifiedHTTPSConnection object at 0x00000000071BA358>: Failed to establish a new connection: [WinError 10060] 由于连接方在一段时间后没有正确答复或连接的主机没有反应，连接尝试失败。',))\n"
     ]
    },
    {
     "name": "stdout",
     "output_type": "stream",
     "text": [
      "HTTPConnectionPool(host='www.dw.com', port=80): Max retries exceeded with url: /en/germany-returns-3000-year-old-relics-to-mexico/a-43058336 (Caused by NewConnectionError('<requests.packages.urllib3.connection.HTTPConnection object at 0x00000000070A0AC8>: Failed to establish a new connection: [WinError 10060] 由于连接方在一段时间后没有正确答复或连接的主机没有反应，连接尝试失败。',))\n",
      "HTTPSConnectionPool(host='www.reuters.com', port=443): Max retries exceeded with url: /article/us-facebook-brazil-cambridge-analytica/brazil-prosecutors-open-investigation-into-cambridge-analytica-idUSKBN1GX35A?il=0 (Caused by NewConnectionError('<requests.packages.urllib3.connection.VerifiedHTTPSConnection object at 0x00000000070A9A90>: Failed to establish a new connection: [WinError 10060] 由于连接方在一段时间后没有正确答复或连接的主机没有反应，连接尝试失败。',))\n",
      "(\"bad handshake: SysCallError(10054, 'WSAECONNRESET')\",)\n",
      "(\"bad handshake: SysCallError(10054, 'WSAECONNRESET')\",)\n",
      "HTTPSConnectionPool(host='www.hrw.org', port=443): Max retries exceeded with url: /news/2018/03/22/turkey-mass-deportations-syrians (Caused by NewConnectionError('<requests.packages.urllib3.connection.VerifiedHTTPSConnection object at 0x00000000070A97F0>: Failed to establish a new connection: [WinError 10060] 由于连接方在一段时间后没有正确答复或连接的主机没有反应，连接尝试失败。',))\n",
      "HTTPSConnectionPool(host='www.reuters.com', port=443): Max retries exceeded with url: /article/us-usa-china-trade-mofcom/china-calls-u-s-repeat-abuser-of-world-trade-rules-idUSKBN1GX3DM (Caused by NewConnectionError('<requests.packages.urllib3.connection.VerifiedHTTPSConnection object at 0x00000000071BA940>: Failed to establish a new connection: [WinError 10060] 由于连接方在一段时间后没有正确答复或连接的主机没有反应，连接尝试失败。',))\n",
      "HTTPSConnectionPool(host='www.reuters.com', port=443): Max retries exceeded with url: /article/us-autos-selfdriving-uber/arizona-police-release-video-of-fatal-collision-with-uber-self-driving-suv-idUSKBN1GX39A (Caused by NewConnectionError('<requests.packages.urllib3.connection.VerifiedHTTPSConnection object at 0x00000000071BA3C8>: Failed to establish a new connection: [WinError 10060] 由于连接方在一段时间后没有正确答复或连接的主机没有反应，连接尝试失败。',))\n",
      "('Connection aborted.', ConnectionResetError(10054, '远程主机强迫关闭了一个现有的连接。', None, 10054, None))\n",
      "HTTPSConnectionPool(host='www.reuters.com', port=443): Max retries exceeded with url: /article/us-britain-russia-spy-envoys/sparks-fly-in-moscow-as-russia-and-britain-trade-accusations-over-spy-poisoning-idUSKBN1GX0UW?feedType=RSS&amp;feedName=worldNews&amp;utm_source=feedburner&amp;utm_medium=feed&amp;utm_campaign=Feed%3A+Reuters%2FworldNews+%28Reuters+World+News%29 (Caused by NewConnectionError('<requests.packages.urllib3.connection.VerifiedHTTPSConnection object at 0x00000000071BAD30>: Failed to establish a new connection: [WinError 10060] 由于连接方在一段时间后没有正确答复或连接的主机没有反应，连接尝试失败。',))\n",
      "('Connection aborted.', ConnectionResetError(10054, '远程主机强迫关闭了一个现有的连接。', None, 10054, None))\n",
      "('Connection aborted.', ConnectionResetError(10054, '远程主机强迫关闭了一个现有的连接。', None, 10054, None))\n",
      "HTTPConnectionPool(host='www.dw.com', port=80): Max retries exceeded with url: /en/kosovo-passes-montenegro-border-deal-after-tear-gas-disruptions/a-43071409 (Caused by NewConnectionError('<requests.packages.urllib3.connection.HTTPConnection object at 0x00000000070A96A0>: Failed to establish a new connection: [WinError 10060] 由于连接方在一段时间后没有正确答复或连接的主机没有反应，连接尝试失败。',))\n",
      "('Connection aborted.', ConnectionResetError(10054, '远程主机强迫关闭了一个现有的连接。', None, 10054, None))\n",
      "('Connection aborted.', ConnectionResetError(10054, '远程主机强迫关闭了一个现有的连接。', None, 10054, None))\n",
      "(\"bad handshake: SysCallError(10054, 'WSAECONNRESET')\",)\n",
      "('Connection aborted.', ConnectionResetError(10054, '远程主机强迫关闭了一个现有的连接。', None, 10054, None))\n",
      "HTTPSConnectionPool(host='www.reuters.com', port=443): Max retries exceeded with url: /article/us-taiwan-usa/u-s-official-says-support-of-taiwan-has-never-been-stronger-idUSKBN1GX08U (Caused by NewConnectionError('<requests.packages.urllib3.connection.VerifiedHTTPSConnection object at 0x00000000071BAA90>: Failed to establish a new connection: [WinError 10060] 由于连接方在一段时间后没有正确答复或连接的主机没有反应，连接尝试失败。',))\n",
      "('Connection aborted.', ConnectionResetError(10054, '远程主机强迫关闭了一个现有的连接。', None, 10054, None))\n",
      "HTTPConnectionPool(host='www.dw.com', port=80): Max retries exceeded with url: /en/trump-to-announce-trade-sanctions-against-china-for-intellectual-property-theft/a-43075949 (Caused by NewConnectionError('<requests.packages.urllib3.connection.HTTPConnection object at 0x00000000071CEE80>: Failed to establish a new connection: [WinError 10060] 由于连接方在一段时间后没有正确答复或连接的主机没有反应，连接尝试失败。',))\n",
      "HTTPSConnectionPool(host='uk.reuters.com', port=443): Max retries exceeded with url: /article/uk-canada-immigration-foster/refugee-wins-stay-in-case-challenging-canadas-deportation-process-idUKKBN1GY02J?rpc=401&amp; (Caused by NewConnectionError('<requests.packages.urllib3.connection.VerifiedHTTPSConnection object at 0x00000000071CE438>: Failed to establish a new connection: [WinError 10060] 由于连接方在一段时间后没有正确答复或连接的主机没有反应，连接尝试失败。',))\n",
      "HTTPSConnectionPool(host='www.reuters.com', port=443): Max retries exceeded with url: /article/us-libya-security-rights/executions-torture-and-slave-markets-persist-in-libya-u-n-idUSKBN1GX1JY (Caused by NewConnectionError('<requests.packages.urllib3.connection.VerifiedHTTPSConnection object at 0x00000000070A0D68>: Failed to establish a new connection: [WinError 10060] 由于连接方在一段时间后没有正确答复或连接的主机没有反应，连接尝试失败。',))\n",
      "HTTPSConnectionPool(host='www.reuters.com', port=443): Max retries exceeded with url: /article/us-britain-russia-spy-envoys/sparks-fly-in-moscow-as-russia-and-britain-trade-accusations-over-spy-poisoning-idUSKBN1GX0UW?il=0 (Caused by NewConnectionError('<requests.packages.urllib3.connection.VerifiedHTTPSConnection object at 0x00000000070A04A8>: Failed to establish a new connection: [WinError 10060] 由于连接方在一段时间后没有正确答复或连接的主机没有反应，连接尝试失败。',))\n",
      "HTTPSConnectionPool(host='www.reuters.com', port=443): Max retries exceeded with url: /article/us-mideast-crisis-syria-turkey-germany/germany-condemns-turkish-military-offensive-in-syria-idUSKBN1GX1EI?il=0 (Caused by NewConnectionError('<requests.packages.urllib3.connection.VerifiedHTTPSConnection object at 0x00000000071BA6A0>: Failed to establish a new connection: [WinError 10060] 由于连接方在一段时间后没有正确答复或连接的主机没有反应，连接尝试失败。',))\n",
      "(\"bad handshake: SysCallError(10054, 'WSAECONNRESET')\",)\n",
      "HTTPSConnectionPool(host='www.reuters.com', port=443): Max retries exceeded with url: /article/us-france-sarkozy-libya/sarkozy-says-libya-funding-accusations-make-his-life-hell-paper-idUSKBN1GY0M1 (Caused by NewConnectionError('<requests.packages.urllib3.connection.VerifiedHTTPSConnection object at 0x00000000070A09E8>: Failed to establish a new connection: [WinError 10060] 由于连接方在一段时间后没有正确答复或连接的主机没有反应，连接尝试失败。',))\n",
      "HTTPSConnectionPool(host='www.reuters.com', port=443): Max retries exceeded with url: /article/us-egypt-politics-hrw/egypt-crackdown-paves-way-for-long-term-sisi-rule-human-rights-watch-idUSKBN1GX2PH (Caused by NewConnectionError('<requests.packages.urllib3.connection.VerifiedHTTPSConnection object at 0x00000000070A0240>: Failed to establish a new connection: [WinError 10060] 由于连接方在一段时间后没有正确答复或连接的主机没有反应，连接尝试失败。',))\n",
      "('Connection aborted.', ConnectionResetError(10054, '远程主机强迫关闭了一个现有的连接。', None, 10054, None))\n",
      "HTTPConnectionPool(host='www.dw.com', port=80): Max retries exceeded with url: /en/eu-executive-unveils-plan-for-digital-tax-on-tech-giants/a-43064087 (Caused by NewConnectionError('<requests.packages.urllib3.connection.HTTPConnection object at 0x00000000071BAB70>: Failed to establish a new connection: [WinError 10060] 由于连接方在一段时间后没有正确答复或连接的主机没有反应，连接尝试失败。',))\n",
      "HTTPSConnectionPool(host='www.voanews.com', port=443): Max retries exceeded with url: /a/exit-poll-says-dutch-approve-spy-agency-power-to-tap-internet-traffic/4309819.html (Caused by NewConnectionError('<requests.packages.urllib3.connection.VerifiedHTTPSConnection object at 0x00000000071BA128>: Failed to establish a new connection: [WinError 10060] 由于连接方在一段时间后没有正确答复或连接的主机没有反应，连接尝试失败。',))\n",
      "HTTPConnectionPool(host='www.dw.com', port=80): Max retries exceeded with url: /en/kurds-protest-turkeys-afrin-offensive-during-newroz-celebrations/g-43075609w (Caused by NewConnectionError('<requests.packages.urllib3.connection.HTTPConnection object at 0x00000000071CEF60>: Failed to establish a new connection: [WinError 10060] 由于连接方在一段时间后没有正确答复或连接的主机没有反应，连接尝试失败。',))\n"
     ]
    },
    {
     "name": "stdout",
     "output_type": "stream",
     "text": [
      "(\"bad handshake: SysCallError(10054, 'WSAECONNRESET')\",)\n",
      "HTTPSConnectionPool(host='www.reuters.com', port=443): Max retries exceeded with url: /article/us-britain-russia-eu/britain-to-seek-eu-condemnation-of-russia-over-nerve-agent-attack-idUSKBN1GX3C9?il=0 (Caused by NewConnectionError('<requests.packages.urllib3.connection.VerifiedHTTPSConnection object at 0x00000000071CE978>: Failed to establish a new connection: [WinError 10060] 由于连接方在一段时间后没有正确答复或连接的主机没有反应，连接尝试失败。',))\n",
      "HTTPSConnectionPool(host='www.reuters.com', port=443): Max retries exceeded with url: /article/us-mideast-crisis-syria-russia-usa/russia-says-u-s-plans-to-strike-damascus-pledges-military-response-idUSKCN1GP0TY (Caused by NewConnectionError('<requests.packages.urllib3.connection.VerifiedHTTPSConnection object at 0x0000000007067668>: Failed to establish a new connection: [WinError 10060] 由于连接方在一段时间后没有正确答复或连接的主机没有反应，连接尝试失败。',))\n",
      "HTTPSConnectionPool(host='www.voanews.com', port=443): Max retries exceeded with url: /a/anglophone-cameroonians-continue-fleeing-to-nigeria/4308796.html (Caused by NewConnectionError('<requests.packages.urllib3.connection.VerifiedHTTPSConnection object at 0x00000000071BA2E8>: Failed to establish a new connection: [WinError 10060] 由于连接方在一段时间后没有正确答复或连接的主机没有反应，连接尝试失败。',))\n",
      "HTTPSConnectionPool(host='www.reuters.com', port=443): Max retries exceeded with url: /article/us-facebook-cambridge-analytica-kogan/academic-in-facebook-storm-worked-on-russian-dark-personality-project-idUSKBN1GX2F6?il=0 (Caused by NewConnectionError('<requests.packages.urllib3.connection.VerifiedHTTPSConnection object at 0x0000000007067C18>: Failed to establish a new connection: [WinError 10060] 由于连接方在一段时间后没有正确答复或连接的主机没有反应，连接尝试失败。',))\n",
      "HTTPSConnectionPool(host='www.reuters.com', port=443): Max retries exceeded with url: /article/us-northkorea-missiles-southkorea-talks/south-korea-to-send-k-pop-singers-to-pyongyang-in-late-march-idUSKBN1GW0QU (Caused by NewConnectionError('<requests.packages.urllib3.connection.VerifiedHTTPSConnection object at 0x00000000071BA978>: Failed to establish a new connection: [WinError 10060] 由于连接方在一段时间后没有正确答复或连接的主机没有反应，连接尝试失败。',))\n",
      "HTTPSConnectionPool(host='www.reuters.com', port=443): Max retries exceeded with url: /article/us-china-taiwan-usa/chinese-paper-says-china-should-prepare-for-military-action-over-taiwan-idUSKBN1GY015 (Caused by NewConnectionError('<requests.packages.urllib3.connection.VerifiedHTTPSConnection object at 0x0000000007067DA0>: Failed to establish a new connection: [WinError 10060] 由于连接方在一段时间后没有正确答复或连接的主机没有反应，连接尝试失败。',))\n",
      "HTTPSConnectionPool(host='www.voanews.com', port=443): Max retries exceeded with url: /a/cuba-opens-wholesale-market-to-sell-basic-staples-/4306437.html (Caused by NewConnectionError('<requests.packages.urllib3.connection.VerifiedHTTPSConnection object at 0x0000000004A26898>: Failed to establish a new connection: [Errno 11004] getaddrinfo failed',))\n",
      "HTTPSConnectionPool(host='www.reuters.com', port=443): Max retries exceeded with url: /article/us-facebook-privacy-costs-analysis/privacy-issues-emerge-as-major-business-risk-for-facebook-idUSKBN1GW01F?utm_campaign=trueAnthem:+Trending+Content&amp;utm_content=5ab0e50104d30132c46da0ab&amp;utm_medium=trueAnthem&amp;utm_source=twitter (Caused by NewConnectionError('<requests.packages.urllib3.connection.VerifiedHTTPSConnection object at 0x00000000070E30F0>: Failed to establish a new connection: [WinError 10060] 由于连接方在一段时间后没有正确答复或连接的主机没有反应，连接尝试失败。',))\n"
     ]
    },
    {
     "ename": "NameError",
     "evalue": "name 'lxml' is not defined",
     "output_type": "error",
     "traceback": [
      "\u001b[1;31m---------------------------------------------------------------------------\u001b[0m",
      "\u001b[1;31mNameError\u001b[0m                                 Traceback (most recent call last)",
      "\u001b[1;32m<ipython-input-7-05ce0702a6d0>\u001b[0m in \u001b[0;36m<module>\u001b[1;34m()\u001b[0m\n\u001b[0;32m     40\u001b[0m \u001b[1;33m\u001b[0m\u001b[0m\n\u001b[0;32m     41\u001b[0m \u001b[1;32mfor\u001b[0m \u001b[0mfilename\u001b[0m \u001b[1;32min\u001b[0m \u001b[0mos\u001b[0m\u001b[1;33m.\u001b[0m\u001b[0mlistdir\u001b[0m\u001b[1;33m(\u001b[0m\u001b[0mdata_folder\u001b[0m\u001b[1;33m)\u001b[0m\u001b[1;33m:\u001b[0m \u001b[1;31m# 遍历所有的原始网页，从文件里抽取文本\u001b[0m\u001b[1;33m\u001b[0m\u001b[0m\n\u001b[1;32m---> 42\u001b[1;33m     \u001b[0mtext\u001b[0m \u001b[1;33m=\u001b[0m \u001b[0mget_text_from_file\u001b[0m\u001b[1;33m(\u001b[0m\u001b[0mos\u001b[0m\u001b[1;33m.\u001b[0m\u001b[0mpath\u001b[0m\u001b[1;33m.\u001b[0m\u001b[0mjoin\u001b[0m\u001b[1;33m(\u001b[0m\u001b[0mdata_folder\u001b[0m\u001b[1;33m,\u001b[0m \u001b[0mfilename\u001b[0m\u001b[1;33m)\u001b[0m\u001b[1;33m)\u001b[0m\u001b[1;33m\u001b[0m\u001b[0m\n\u001b[0m\u001b[0;32m     43\u001b[0m     \u001b[1;32mwith\u001b[0m \u001b[0mopen\u001b[0m\u001b[1;33m(\u001b[0m\u001b[0mos\u001b[0m\u001b[1;33m.\u001b[0m\u001b[0mpath\u001b[0m\u001b[1;33m.\u001b[0m\u001b[0mjoin\u001b[0m\u001b[1;33m(\u001b[0m\u001b[0mtext_output_folder\u001b[0m\u001b[1;33m,\u001b[0m \u001b[0mfilename\u001b[0m\u001b[1;33m)\u001b[0m\u001b[1;33m,\u001b[0m \u001b[1;34m'wb'\u001b[0m\u001b[1;33m)\u001b[0m \u001b[1;32mas\u001b[0m \u001b[0moutf\u001b[0m\u001b[1;33m:\u001b[0m\u001b[1;33m\u001b[0m\u001b[0m\n\u001b[0;32m     44\u001b[0m         \u001b[0moutf\u001b[0m\u001b[1;33m.\u001b[0m\u001b[0mwrite\u001b[0m\u001b[1;33m(\u001b[0m\u001b[0mtext\u001b[0m\u001b[1;33m)\u001b[0m\u001b[1;33m\u001b[0m\u001b[0m\n",
      "\u001b[1;32m<ipython-input-7-05ce0702a6d0>\u001b[0m in \u001b[0;36mget_text_from_file\u001b[1;34m(filename)\u001b[0m\n\u001b[0;32m     26\u001b[0m \u001b[1;32mdef\u001b[0m \u001b[0mget_text_from_file\u001b[0m\u001b[1;33m(\u001b[0m\u001b[0mfilename\u001b[0m\u001b[1;33m)\u001b[0m\u001b[1;33m:\u001b[0m\u001b[1;33m\u001b[0m\u001b[0m\n\u001b[0;32m     27\u001b[0m     \u001b[1;32mwith\u001b[0m \u001b[0mopen\u001b[0m\u001b[1;33m(\u001b[0m\u001b[0mfilename\u001b[0m\u001b[1;33m)\u001b[0m \u001b[1;32mas\u001b[0m \u001b[0minf\u001b[0m\u001b[1;33m:\u001b[0m\u001b[1;33m\u001b[0m\u001b[0m\n\u001b[1;32m---> 28\u001b[1;33m         \u001b[0mhtml_tree\u001b[0m \u001b[1;33m=\u001b[0m \u001b[0mlxml\u001b[0m\u001b[1;33m.\u001b[0m\u001b[0mhtml\u001b[0m\u001b[1;33m.\u001b[0m\u001b[0mparse\u001b[0m\u001b[1;33m(\u001b[0m\u001b[0minf\u001b[0m\u001b[1;33m)\u001b[0m\u001b[1;33m\u001b[0m\u001b[0m\n\u001b[0m\u001b[0;32m     29\u001b[0m     \u001b[1;32mreturn\u001b[0m \u001b[0mget_text_from_node\u001b[0m\u001b[1;33m(\u001b[0m\u001b[0mhtml_tree\u001b[0m\u001b[1;33m.\u001b[0m\u001b[0mgetroot\u001b[0m\u001b[1;33m(\u001b[0m\u001b[1;33m)\u001b[0m\u001b[1;33m)\u001b[0m\u001b[1;33m\u001b[0m\u001b[0m\n\u001b[0;32m     30\u001b[0m \u001b[1;33m\u001b[0m\u001b[0m\n",
      "\u001b[1;31mNameError\u001b[0m: name 'lxml' is not defined"
     ]
    }
   ],
   "source": [
    "####    从任意网站抽取文本\n",
    "# 指定存放原始网页的目录。\n",
    "import os\n",
    "data_folder = os.path.join(os.path.expanduser(\"~\"), \"ANACONDA DM\", \"chapter10\", \"raw\")\n",
    "import hashlib\n",
    "number_errors = 0 # 下载失败次数\n",
    "for title, url, score in stories:\n",
    "    output_filename = hashlib.md5(url.encode()).hexdigest()\n",
    "    fullpath = os.path.join(data_folder, output_filename + \".txt\")\n",
    "    if os.path.exists(fullpath):\n",
    "        continue\n",
    "    try:\n",
    "        response = requests.get(url)\n",
    "        data = response.text\n",
    "        with open(fullpath, 'w', encoding='utf8') as outf:\n",
    "            outf.write(data)\n",
    "    except Exception as e:\n",
    "        number_errors += 1\n",
    "        print(e)\n",
    "        \n"
   ]
  },
  {
   "cell_type": "code",
   "execution_count": 17,
   "metadata": {
    "collapsed": true
   },
   "outputs": [],
   "source": [
    "# 将不同网页新闻组装起来\n",
    "filenames = [os.path.join(data_folder, filename) for filename in os.listdir(data_folder)]\n",
    "text_output_folder = os.path.join(os.path.expanduser(\"~\"), \"ANACONDA DM\", \"chapter10\", \"textonly\")\n",
    "import lxml # 用lxml包解析HTML文件， lxml的HTML解析器容错能力强，可以处理不规范的HTML代码。\n",
    "import lxml.html # error lxml have not attr html\n",
    "skip_node_types = [\"script\", \"head\", \"style\", lxml.etree.Comment] # 脚本、样式或注释\n",
    "def get_text_from_file(filename): \n",
    "    with open(filename, encoding='utf8') as inf:\n",
    "        html_tree = lxml.html.parse(inf)\n",
    "    return get_text_from_node(html_tree.getroot())\n",
    "\n",
    "'''这个用法很有意思，反复调用自己'''\n",
    "def get_text_from_node(node):\n",
    "    if len(node) == 0: # 如果一个节点没有任何子节点，文本抽取函数返回该节点的文本内容。\n",
    "        if node.text and len(node.text) > 100:\n",
    "            return node.text\n",
    "        else:\n",
    "            return \"\"\n",
    "    results = (get_text_from_node(child) for child in node if child.tag not in skip_node_types) #循环调用自己，返回元组？\n",
    "    return \"\\n\".join(r for r in results if len(r) > 1) # 防止返回空行\n",
    "\n",
    "for filename in os.listdir(data_folder): # 遍历所有的原始网页，从文件里抽取文本\n",
    "    text = get_text_from_file(os.path.join(data_folder, filename))\n",
    "    with open(os.path.join(text_output_folder, filename), 'w', encoding='utf8') as outf:\n",
    "        outf.write(text)"
   ]
  },
  {
   "cell_type": "code",
   "execution_count": 2,
   "metadata": {},
   "outputs": [
    {
     "data": {
      "text/plain": [
       "743"
      ]
     },
     "execution_count": 2,
     "metadata": {},
     "output_type": "execute_result"
    }
   ],
   "source": [
    "import os\n",
    "text_output_folder = os.path.join(os.path.expanduser(\"~\"), \"ANACONDA DM\", \"chapter10\", \"textonly\")\n",
    "\n",
    "documents = [open(os.path.join(text_output_folder, filename), encoding='utf8').read() for filename in os.listdir(text_output_folder)]\n",
    "len(documents)"
   ]
  },
  {
   "cell_type": "code",
   "execution_count": 3,
   "metadata": {},
   "outputs": [
    {
     "name": "stdout",
     "output_type": "stream",
     "text": [
      "Cluster 0 contains 14 samples\n",
      "Cluster 1 contains 53 samples\n",
      "Cluster 2 contains 67 samples\n",
      "Cluster 3 contains 32 samples\n",
      "Cluster 4 contains 65 samples\n",
      "Cluster 5 contains 6 samples\n",
      "Cluster 6 contains 434 samples\n",
      "Cluster 7 contains 38 samples\n",
      "Cluster 8 contains 5 samples\n",
      "Cluster 9 contains 29 samples\n"
     ]
    }
   ],
   "source": [
    "####    10.3 新闻语料聚类\n",
    "# k-means 算法\n",
    "from sklearn.cluster import KMeans\n",
    "from sklearn.feature_extraction.text import TfidfVectorizer\n",
    "from sklearn.pipeline import Pipeline\n",
    "n_clusters = 10\n",
    "pipeline = Pipeline([('feature_extraction', TfidfVectorizer(max_df=0.4)), ('clusterer', KMeans(n_clusters=n_clusters))])\n",
    "pipeline.fit(documents)\n",
    "labels = pipeline.predict(documents)\n",
    "from collections import Counter\n",
    "c = Counter(labels)\n",
    "for cluster_number in range(n_clusters):\n",
    "    print(\"Cluster {} contains {} samples\".format(cluster_number, c[cluster_number]))\n",
    "    \n",
    "# 评估结果\n",
    "pipeline.named_steps['clusterer'].inertia_\n",
    "inertia_scores = []\n",
    "n_cluster_values = list(range(2, 20))\n",
    "for n_clusters in n_cluster_values:\n",
    "    cur_inertia_scores = []\n",
    "    X = TfidfVectorizer(max_df=0.4).fit_transform(documents)\n",
    "    for i in range(10):\n",
    "        km = KMeans(n_clusters=n_clusters).fit(X)\n",
    "        cur_inertia_scores.append(km.inertia_)\n",
    "    inertia_scores.append(cur_inertia_scores)\n"
   ]
  },
  {
   "cell_type": "code",
   "execution_count": 17,
   "metadata": {},
   "outputs": [
    {
     "data": {
      "text/plain": [
       "(180, 2)"
      ]
     },
     "execution_count": 17,
     "metadata": {},
     "output_type": "execute_result"
    }
   ],
   "source": [
    "'''\n",
    "import  seaborn as sns\n",
    "#sns.factorplot(inertia_scores)\n",
    "e = sns.load_dataset(\"exercise\")\n",
    "g = sns.factorplot(x=\"time\", y=\"pulse\", hue=\"kind\", data=e)\n",
    "'''\n",
    "import pandas as pd\n",
    "\n",
    "inertia = []\n",
    "n = []\n",
    "for keys, value in zip(inertia_scores, n_cluster_values):\n",
    "    for key in keys:\n",
    "        inertia.append(key)\n",
    "        n.append(value)\n",
    "df = pd.DataFrame(columns=['inertia', 'n'])\n",
    "df.inertia = pd.Series(inertia)\n",
    "df.n = pd.Series(n)\n",
    "df.shape"
   ]
  },
  {
   "cell_type": "code",
   "execution_count": 30,
   "metadata": {},
   "outputs": [
    {
     "data": {
      "text/plain": [
       "<matplotlib.figure.Figure at 0xcce5630>"
      ]
     },
     "metadata": {},
     "output_type": "display_data"
    },
    {
     "data": {
      "image/png": "[encoded data removed]",
      "text/plain": [
       "<matplotlib.figure.Figure at 0x1b974a20>"
      ]
     },
     "metadata": {},
     "output_type": "display_data"
    }
   ],
   "source": [
    "#作图\n",
    "import  seaborn as sns\n",
    "%matplotlib inline\n",
    "from matplotlib import pyplot as plt\n",
    "g = sns.factorplot(x='n', y='inertia', data=df)"
   ]
  },
  {
   "cell_type": "code",
   "execution_count": 33,
   "metadata": {
    "collapsed": true
   },
   "outputs": [],
   "source": [
    "n_clusters = 10\n",
    "pipeline = Pipeline([('feature_extraction', TfidfVectorizer(max_df=0.4)), ('clusterer', KMeans(n_clusters=n_clusters))])\n",
    "pipeline.fit(documents)\n",
    "labels = pipeline.predict(documents)"
   ]
  },
  {
   "cell_type": "code",
   "execution_count": 34,
   "metadata": {},
   "outputs": [
    {
     "name": "stdout",
     "output_type": "stream",
     "text": [
      "Cluster 0 contains 6 samples\n",
      " Most important terms\n",
      " 1) browser (score: 0.4839)\n",
      " 2) css (score: 0.3376)\n",
      " 3) sheets (score: 0.3296)\n",
      " 4) able (score: 0.2714)\n",
      " 5) style (score: 0.2642)\n",
      "Cluster 1 contains 15 samples\n",
      " Most important terms\n",
      " 1) turkey (score: 0.1914)\n",
      " 2) afrin (score: 0.1740)\n",
      " 3) turkish (score: 0.1619)\n",
      " 4) kurdish (score: 0.1445)\n",
      " 5) syria (score: 0.1043)\n",
      "Cluster 2 contains 36 samples\n",
      " Most important terms\n",
      " 1) putin (score: 0.1471)\n",
      " 2) russia (score: 0.1327)\n",
      " 3) russian (score: 0.1041)\n",
      " 4) election (score: 0.0788)\n",
      " 5) president (score: 0.0599)\n",
      "Cluster 3 contains 54 samples\n",
      " Most important terms\n",
      " 1) data (score: 0.1964)\n",
      " 2) facebook (score: 0.1736)\n",
      " 3) cambridge (score: 0.1701)\n",
      " 4) analytica (score: 0.1630)\n",
      " 5) company (score: 0.0863)\n",
      "Cluster 4 contains 50 samples\n",
      " Most important terms\n",
      " 1) trade (score: 0.0467)\n",
      " 2) health (score: 0.0385)\n",
      " 3) countries (score: 0.0383)\n",
      " 4) ata (score: 0.0379)\n",
      " 5) tariffs (score: 0.0319)\n",
      "Cluster 5 contains 58 samples\n",
      " Most important terms\n",
      " 1) russia (score: 0.1167)\n",
      " 2) russian (score: 0.0964)\n",
      " 3) uk (score: 0.0799)\n",
      " 4) johnson (score: 0.0720)\n",
      " 5) eu (score: 0.0677)\n",
      "Cluster 6 contains 44 samples\n",
      " Most important terms\n",
      " 1) china (score: 0.2756)\n",
      " 2) chinese (score: 0.1276)\n",
      " 3) trade (score: 0.1215)\n",
      " 4) tariffs (score: 0.1075)\n",
      " 5) trump (score: 0.0944)\n",
      "Cluster 7 contains 414 samples\n",
      " Most important terms\n",
      " 1) israel (score: 0.0169)\n",
      " 2) government (score: 0.0152)\n",
      " 3) police (score: 0.0149)\n",
      " 4) president (score: 0.0137)\n",
      " 5) she (score: 0.0137)\n",
      "Cluster 8 contains 9 samples\n",
      " Most important terms\n",
      " 1) juneau (score: 0.1139)\n",
      " 2) ship (score: 0.1122)\n",
      " 3) brothers (score: 0.1035)\n",
      " 4) uss (score: 0.0946)\n",
      " 5) migrants (score: 0.0867)\n",
      "Cluster 9 contains 57 samples\n",
      " Most important terms\n",
      " 1) cloudfront (score: 0.0617)\n",
      " 2) venezuela (score: 0.0369)\n",
      " 3) id (score: 0.0293)\n",
      " 4) chinese (score: 0.0291)\n",
      " 5) digital (score: 0.0281)\n"
     ]
    }
   ],
   "source": [
    "# 从簇中抽取主题信息\n",
    "terms = pipeline.named_steps['feature_extraction'].get_feature_names()\n",
    "c = Counter(labels) #return dict\n",
    "for cluster_number in range(n_clusters):\n",
    "    print(\"Cluster {} contains {} samples\".format(cluster_number, c[cluster_number]))\n",
    "    print(\" Most important terms\")\n",
    "    centroid = pipeline.named_steps['clusterer'].cluster_centers_[cluster_number] # 每个词的score\n",
    "    most_important = centroid.argsort() #质心的索引排序\n",
    "    for i in range(5):\n",
    "        term_index = most_important[-(i+1)]\n",
    "        print(\" {0}) {1} (score: {2:.4f})\".format(i+1, terms[term_index], centroid[term_index]))"
   ]
  },
  {
   "cell_type": "code",
   "execution_count": 35,
   "metadata": {
    "collapsed": true
   },
   "outputs": [],
   "source": [
    "# 用聚类算法做转换器\n",
    "'''\n",
    "词表共有14 000个词条\n",
    "我们可以使用数据点到质心点的距离作为特征创建一个特征数较之前少得多的数据集.\n",
    "得到的矩阵有六个特征，数据量跟文档的长度相同.\n",
    "用聚类方法把特征数减少到更容易操作的范围内，再用SVM等算法对前面处理过的数据集进行分类\n",
    "'''\n",
    "X = pipeline.transform(documents)\n"
   ]
  },
  {
   "cell_type": "code",
   "execution_count": 37,
   "metadata": {},
   "outputs": [],
   "source": [
    "####    10.4 聚类融合\n",
    "import numpy as np\n",
    "from scipy.sparse import csr_matrix\n",
    "def create_coassociation_matrix(labels):\n",
    "    rows = []\n",
    "    cols = []\n",
    "    unique_labels = set(labels)\n",
    "    for label in unique_labels:\n",
    "        indices = np.where(labels == label)[0] # list：sample的索引\n",
    "        for index1 in indices:\n",
    "            for index2 in indices:\n",
    "                rows.append(index1) #行索引\n",
    "                cols.append(index2) #列索引\n",
    "    data = np.ones((len(rows),)) #建一个一维的全为1的数据集\n",
    "    return csr_matrix((data, (rows, cols)), dtype='float') #返回有索引的位置为1的矩阵，没有索引的位置为0\n",
    "C = create_coassociation_matrix(labels)"
   ]
  },
  {
   "cell_type": "code",
   "execution_count": 61,
   "metadata": {},
   "outputs": [],
   "source": [
    "from scipy.sparse.csgraph import minimum_spanning_tree\n",
    "mst = minimum_spanning_tree(C)\n",
    "mst = minimum_spanning_tree(-C)\n",
    "pipeline.fit(documents)\n",
    "labels2 = pipeline.predict(documents)\n",
    "C2 = create_coassociation_matrix(labels2)\n",
    "C_sum = (C + C2) / 2 #对两次kmean取平均\n",
    "mst = minimum_spanning_tree(-C_sum)\n",
    "mst.data[mst.data > -1] = 0\n",
    "from scipy.sparse.csgraph import connected_components\n",
    "number_of_clusters, labels = connected_components(mst)"
   ]
  },
  {
   "cell_type": "code",
   "execution_count": 57,
   "metadata": {},
   "outputs": [],
   "source": [
    "from sklearn.base import BaseEstimator, ClusterMixin\n",
    "'''\n",
    "现在我们来把前面这些整合起来，创建接口跟scikit-learn对得上的简易聚类算法，实现\n",
    "证据累积的两个步骤。首先，使用scikit-learn的ClusterMixin创建证据累积算法类。\n",
    "'''\n",
    "class EAC(BaseEstimator, ClusterMixin):\n",
    "    '''\n",
    "    参数分别为第一步k-means算法运行次数（创建共协矩阵），用来删除边的阈值和每次运行k-means算法要找到的簇的数量。\n",
    "    指定n_clusters的取值范围，每次运行k-means算法都能得到不同的聚类结果。一般而言，从融合的角度看，每次结果有所不同是件好事。\n",
    "    否则，融合多次算法跟只运行一次算法效果相同（但是几个聚类结果之间差距较大也不能表明融合后效果就会好）。\n",
    "    '''\n",
    "    def __init__(self, n_clusterings=10, cut_threshold=0.5, n_clusters_range=(3, 10)):\n",
    "        self.n_clusterings = n_clusterings\n",
    "        self.cut_threshold = cut_threshold\n",
    "        self.n_clusters_range = n_clusters_range\n",
    "\n",
    "    def fit(self, X, y=None):\n",
    "        '''\n",
    "        使用k-means算法进行低水平聚类，把每一次迭代得到的共协矩阵加起来。为了节省内存，我们使用生成器，仅在需要时创建共协矩阵。\n",
    "        生成器每迭代一次，就在数据集上跑一个新的k-means实例，然后创建一个共协矩阵。再使用sum方法把得到的多个共协矩阵加起来。\n",
    "        '''\n",
    "        C = sum((create_coassociation_matrix(self._single_clustering(X)) for i in range(self.n_clusterings)))\n",
    "        '''\n",
    "        跟前面一样，我们创建MST，删除低于阈值的边（注意使用相反数），找到连通分支。\n",
    "        跟scikit-learn其他fit函数一样，我们都需要返回self，以便流水线的下一个步骤使用。\n",
    "        '''\n",
    "        mst = minimum_spanning_tree(-C)\n",
    "        mst.data[mst.data > -self.cut_threshold] = 0\n",
    "        self.n_components, self.labels_ = connected_components(mst)\n",
    "        return self\n",
    "    '''\n",
    "    编写通过一轮迭代进行聚类的函数。具体方法是，使用numpy的randint函数随机选取几个簇，用参数n_clusters_range指定随机选取的范围。\n",
    "    然后使用k-means算法进行聚类和预测数据集属于哪个簇。最后返回由k-means计算得到的簇标签。\n",
    "    '''\n",
    "    def _single_clustering(self, X):\n",
    "        n_clusters = np.random.randint(*self.n_clusters_range)\n",
    "        km = KMeans(n_clusters=n_clusters)\n",
    "        return km.fit_predict(X)\n",
    "    '''\n",
    "    像之前那样创建流水线，只不过在流水线最后一步，使用证据累积算法而不是之前的k-means算法实例，运行代码。\n",
    "    '''\n",
    "pipeline = Pipeline([('feature_extraction', TfidfVectorizer(max_df=0.4)), ('clusterer', EAC())])"
   ]
  },
  {
   "cell_type": "code",
   "execution_count": 59,
   "metadata": {},
   "outputs": [],
   "source": [
    "####    10.5 线上学习\n",
    "vec = TfidfVectorizer(max_df=0.4)\n",
    "X = vec.fit_transform(documents)\n",
    "from sklearn.cluster import MiniBatchKMeans\n",
    "mbkm = MiniBatchKMeans(random_state=14, n_clusters=3)\n",
    "batch_size = 10\n",
    "for iteration in range(int(X.shape[0] / batch_size)):\n",
    "    start = batch_size * iteration\n",
    "    end = batch_size * (iteration + 1)\n",
    "    mbkm.partial_fit(X[start:end])\n",
    "labels = mbkm.predict(X)\n",
    "'''\n",
    "无法在流水线中使用TfIDFVectorizer，因为它不是在线算法.  sickit-learn的Pipeline类无法用于线上学习\n",
    "我们可以创建自己的能够支持线上学习的流水线子类。我们这个类继承自scikit-learn的Pipeline类\n",
    "'''\n",
    "class PartialFitPipeline(Pipeline):\n",
    "    def partial_fit(self, X, y=None):\n",
    "        '''流水线由一系列转换步骤组成，前一步的输出为下一步的输入。我们把第一个输入设置为X矩阵，接着，用每一个转换器对输入进行转换。'''\n",
    "        Xt = X\n",
    "        for name, transform in self.steps[:-1]:\n",
    "            '''转换已有的数据集，继续迭代，直到达到最后一步'''\n",
    "            Xt = transform.transform(Xt)\n",
    "        '''在最后一步调用partial_fit函数，返回结果。'''\n",
    "        return self.steps[-1][1].partial_fit(Xt, y=y)\n",
    "\n",
    "from sklearn.feature_extraction.text import HashingVectorizer\n",
    "pipeline = PartialFitPipeline([('feature_extraction', HashingVectorizer()), ('clusterer', MiniBatchKMeans(random_state=14, n_clusters=3))])\n",
    "batch_size = 10\n",
    "for iteration in range(int(len(documents) / batch_size)):\n",
    "    start = batch_size * iteration\n",
    "    end = batch_size * (iteration + 1)\n",
    "    pipeline.partial_fit(documents[start:end])\n",
    "labels = pipeline.predict(documents)"
   ]
  },
  {
   "cell_type": "code",
   "execution_count": 74,
   "metadata": {},
   "outputs": [
    {
     "data": {
      "text/plain": [
       "{0, 1}"
      ]
     },
     "execution_count": 74,
     "metadata": {},
     "output_type": "execute_result"
    }
   ],
   "source": [
    "set(labels)"
   ]
  },
  {
   "cell_type": "code",
   "execution_count": null,
   "metadata": {
    "collapsed": true
   },
   "outputs": [],
   "source": []
  }
 ],
 "metadata": {
  "kernelspec": {
   "display_name": "Python [conda root]",
   "language": "python",
   "name": "conda-root-py"
  },
  "language_info": {
   "codemirror_mode": {
    "name": "ipython",
    "version": 3
   },
   "file_extension": ".py",
   "mimetype": "text/x-python",
   "name": "python",
   "nbconvert_exporter": "python",
   "pygments_lexer": "ipython3",
   "version": "3.6.2"
  }
 },
 "nbformat": 4,
 "nbformat_minor": 2
}
