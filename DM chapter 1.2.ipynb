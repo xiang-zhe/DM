{
 "cells": [
  {
   "cell_type": "code",
   "execution_count": 25,
   "metadata": {},
   "outputs": [],
   "source": [
    "from sklearn.datasets import load_iris\n",
    "dataset =load_iris()\n",
    "X=dataset.data\n",
    "y=dataset.target\n",
    "#print(dataset.DESCR)\n"
   ]
  },
  {
   "cell_type": "code",
   "execution_count": 8,
   "metadata": {},
   "outputs": [
    {
     "data": {
      "text/plain": [
       "array([[0, 1, 0, 0],\n",
       "       [0, 0, 0, 0],\n",
       "       [0, 1, 0, 0],\n",
       "       [0, 1, 0, 0],\n",
       "       [0, 1, 0, 0]])"
      ]
     },
     "execution_count": 8,
     "metadata": {},
     "output_type": "execute_result"
    }
   ],
   "source": [
    "import numpy as np\n",
    "attribute_means=X.mean(axis=0)\n",
    "X_d=np.array(X>=attribute_means,dtype='int')    #bool value, the logistic \n",
    "X_d[:5]    #'numpy.ndarray' object has no attribute 'head()'"
   ]
  },
  {
   "cell_type": "code",
   "execution_count": 16,
   "metadata": {},
   "outputs": [],
   "source": [
    "from collections import defaultdict\n",
    "from operator import itemgetter\n",
    "def train_feature_value(X,y_true,feature_index,value):\n",
    "    class_counts=defaultdict(int)\n",
    "    for sample,y in zip(X,y_true):    #zip : when zip is needed？     for sample,y in (X,y_true)?\n",
    "        if sample[feature_index]==value:\n",
    "            class_counts[y]+=1\n",
    "    sorted_class_counts=sorted(class_counts.items(),key=itemgetter(1),reverse=True)\n",
    "    most_frequent_class=sorted_class_counts[0][0]\n",
    "    \n",
    "    incorrect_predictions=[class_count for class_value,class_count in class_counts.items() if class_value!=most_frequent_class]\n",
    "    error= sum(incorrect_predictions)\n",
    "    return most_frequent_class,error\n",
    "def train_on_feature(X,y_true,feature_index):\n",
    "    values=set(X[:,feature_index])\n",
    "    predictors={}\n",
    "    errors=[]\n",
    "    for current_value in values:\n",
    "        most_frequent_class,error=train_feature_value(X,y_true,feature_index,current_value)\n",
    "        predictors[current_value]=most_frequent_class\n",
    "        errors.append(error)\n",
    "    total_error=sum(errors)\n",
    "    return predictors,total_error"
   ]
  },
  {
   "cell_type": "code",
   "execution_count": 22,
   "metadata": {},
   "outputs": [],
   "source": [
    "from sklearn.cross_validation import train_test_split\n",
    "X_train,X_test,y_train,y_test=train_test_split(X_d,y,random_state=14)\n",
    "\n",
    "all_predictors={}\n",
    "errors={}\n",
    "for feature_index in range(X_train.shape[1]):    #shape shows (nrows,ncolumns), so shape[1] means ncolumns\n",
    "    predictors,total_error=train_on_feature(X_train,y_train,feature_index)\n",
    "    all_predictors[feature_index]=predictors\n",
    "    errors[feature_index]=total_error\n",
    "\n",
    "best_feature,best_error =sorted(errors.items(),key=itemgetter(1))[0]\n",
    "model ={'feature':best_feature,'predictor':all_predictors[best_feature]}\n",
    "\n",
    "def predict(X_test,model):\n",
    "    variable=model['feature']\n",
    "    predictor=model['predictor']\n",
    "    y_predicted=np.array([predictor[int(sample[variable])] for sample in X_test ])\n",
    "    return y_predicted\n",
    "y_predicted=predict(X_test,model)\n",
    "accuracy=np.mean(y_predicted==y_test)*100\n",
    "print('the test accuracy is {:.1f}%'.format(accuracy))"
   ]
  },
  {
   "cell_type": "code",
   "execution_count": null,
   "metadata": {},
   "outputs": [],
   "source": [
    "#question : so the feature{0,1} can predict target{0,1,2} with the accuray 65.8% ,incredible"
   ]
  },
  {
   "cell_type": "code",
   "execution_count": null,
   "metadata": {},
   "outputs": [],
   "source": []
  },
  {
   "cell_type": "code",
   "execution_count": null,
   "metadata": {},
   "outputs": [],
   "source": []
  },
  {
   "cell_type": "code",
   "execution_count": null,
   "metadata": {},
   "outputs": [],
   "source": []
  },
  {
   "cell_type": "code",
   "execution_count": null,
   "metadata": {},
   "outputs": [],
   "source": []
  },
  {
   "cell_type": "code",
   "execution_count": null,
   "metadata": {
    "collapsed": true
   },
   "outputs": [],
   "source": []
  }
 ],
 "metadata": {
  "kernelspec": {
   "display_name": "Python 3",
   "language": "python",
   "name": "python3"
  },
  "language_info": {
   "codemirror_mode": {
    "name": "ipython",
    "version": 3
   },
   "file_extension": ".py",
   "mimetype": "text/x-python",
   "name": "python",
   "nbconvert_exporter": "python",
   "pygments_lexer": "ipython3",
   "version": "3.6.1"
  }
 },
 "nbformat": 4,
 "nbformat_minor": 2
}
